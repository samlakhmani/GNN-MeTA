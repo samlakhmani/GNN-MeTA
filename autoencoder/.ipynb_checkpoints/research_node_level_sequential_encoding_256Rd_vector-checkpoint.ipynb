{
 "cells": [
  {
   "cell_type": "markdown",
   "id": "8a795c70",
   "metadata": {
    "id": "8a795c70"
   },
   "source": [
    "\n",
    "\n",
    "\n",
    "# Colab setup"
   ]
  },
  {
   "cell_type": "code",
   "execution_count": null,
   "id": "f2d3c393",
   "metadata": {
    "ExecuteTime": {
     "end_time": "2023-08-11T13:38:45.765582Z",
     "start_time": "2023-08-11T13:38:45.618492Z"
    },
    "id": "f2d3c393",
    "outputId": "5b756e67-ca69-4f24-f743-6f7535d9745e"
   },
   "outputs": [
    {
     "name": "stdout",
     "output_type": "stream",
     "text": [
      "Python 3.8.16\r\n"
     ]
    }
   ],
   "source": [
    "!python --version"
   ]
  },
  {
   "cell_type": "code",
   "execution_count": null,
   "id": "5ae8019c",
   "metadata": {
    "ExecuteTime": {
     "end_time": "2023-08-11T13:38:47.156564Z",
     "start_time": "2023-08-11T13:38:45.772112Z"
    },
    "id": "5ae8019c",
    "outputId": "f5e882f5-f1dd-4649-aa63-99eb6be13760"
   },
   "outputs": [
    {
     "name": "stdout",
     "output_type": "stream",
     "text": [
      "Requirement already satisfied: pip==22.3.1 in /Users/sam/miniconda3/envs/work-py38-pycaret-test/lib/python3.8/site-packages (22.3.1)\n",
      "\n",
      "\u001b[1m[\u001b[0m\u001b[34;49mnotice\u001b[0m\u001b[1;39;49m]\u001b[0m\u001b[39;49m A new release of pip available: \u001b[0m\u001b[31;49m22.3.1\u001b[0m\u001b[39;49m -> \u001b[0m\u001b[32;49m23.2.1\u001b[0m\n",
      "\u001b[1m[\u001b[0m\u001b[34;49mnotice\u001b[0m\u001b[1;39;49m]\u001b[0m\u001b[39;49m To update, run: \u001b[0m\u001b[32;49mpip install --upgrade pip\u001b[0m\n"
     ]
    }
   ],
   "source": [
    "!pip install pip==22.3.1"
   ]
  },
  {
   "cell_type": "code",
   "execution_count": null,
   "id": "ffc8903b",
   "metadata": {
    "ExecuteTime": {
     "end_time": "2023-08-11T13:38:48.470922Z",
     "start_time": "2023-08-11T13:38:47.158386Z"
    },
    "id": "ffc8903b",
    "outputId": "5119d272-dc24-41dd-96dc-e0007315e2a9"
   },
   "outputs": [
    {
     "name": "stdout",
     "output_type": "stream",
     "text": [
      "\r\n",
      "\u001b[1m[\u001b[0m\u001b[34;49mnotice\u001b[0m\u001b[1;39;49m]\u001b[0m\u001b[39;49m A new release of pip available: \u001b[0m\u001b[31;49m22.3.1\u001b[0m\u001b[39;49m -> \u001b[0m\u001b[32;49m23.2.1\u001b[0m\r\n",
      "\u001b[1m[\u001b[0m\u001b[34;49mnotice\u001b[0m\u001b[1;39;49m]\u001b[0m\u001b[39;49m To update, run: \u001b[0m\u001b[32;49mpip install --upgrade pip\u001b[0m\r\n"
     ]
    }
   ],
   "source": [
    "!pip install pytorch-lifestream -q"
   ]
  },
  {
   "cell_type": "code",
   "execution_count": null,
   "id": "f06ce2a1",
   "metadata": {
    "ExecuteTime": {
     "end_time": "2023-08-11T13:38:49.730671Z",
     "start_time": "2023-08-11T13:38:48.473396Z"
    },
    "id": "f06ce2a1",
    "outputId": "3410fb95-e07a-4683-9e8b-303ed3753683"
   },
   "outputs": [
    {
     "name": "stdout",
     "output_type": "stream",
     "text": [
      "\r\n",
      "\u001b[1m[\u001b[0m\u001b[34;49mnotice\u001b[0m\u001b[1;39;49m]\u001b[0m\u001b[39;49m A new release of pip available: \u001b[0m\u001b[31;49m22.3.1\u001b[0m\u001b[39;49m -> \u001b[0m\u001b[32;49m23.2.1\u001b[0m\r\n",
      "\u001b[1m[\u001b[0m\u001b[34;49mnotice\u001b[0m\u001b[1;39;49m]\u001b[0m\u001b[39;49m To update, run: \u001b[0m\u001b[32;49mpip install --upgrade pip\u001b[0m\r\n"
     ]
    }
   ],
   "source": [
    "!pip install pytorch-lightning==1.6.5 -q"
   ]
  },
  {
   "cell_type": "code",
   "execution_count": null,
   "id": "b65fbd59",
   "metadata": {
    "ExecuteTime": {
     "end_time": "2023-08-11T13:38:50.934688Z",
     "start_time": "2023-08-11T13:38:49.732720Z"
    },
    "id": "b65fbd59",
    "outputId": "bba17fc3-3a53-4d6d-b018-ed18e42bfb17"
   },
   "outputs": [
    {
     "name": "stdout",
     "output_type": "stream",
     "text": [
      "Requirement already satisfied: torch==1.12.1 in /Users/sam/miniconda3/envs/work-py38-pycaret-test/lib/python3.8/site-packages (1.12.1)\n",
      "Requirement already satisfied: typing-extensions in /Users/sam/miniconda3/envs/work-py38-pycaret-test/lib/python3.8/site-packages (from torch==1.12.1) (4.4.0)\n",
      "\n",
      "\u001b[1m[\u001b[0m\u001b[34;49mnotice\u001b[0m\u001b[1;39;49m]\u001b[0m\u001b[39;49m A new release of pip available: \u001b[0m\u001b[31;49m22.3.1\u001b[0m\u001b[39;49m -> \u001b[0m\u001b[32;49m23.2.1\u001b[0m\n",
      "\u001b[1m[\u001b[0m\u001b[34;49mnotice\u001b[0m\u001b[1;39;49m]\u001b[0m\u001b[39;49m To update, run: \u001b[0m\u001b[32;49mpip install --upgrade pip\u001b[0m\n"
     ]
    }
   ],
   "source": [
    "!pip install torch==1.12.1"
   ]
  },
  {
   "cell_type": "markdown",
   "id": "9e91a902",
   "metadata": {
    "id": "9e91a902"
   },
   "source": [
    "## Setup"
   ]
  },
  {
   "cell_type": "code",
   "execution_count": null,
   "id": "587df1ea",
   "metadata": {
    "ExecuteTime": {
     "end_time": "2023-08-11T13:38:51.901997Z",
     "start_time": "2023-08-11T13:38:50.936628Z"
    },
    "id": "587df1ea"
   },
   "outputs": [],
   "source": [
    "%load_ext autoreload\n",
    "%autoreload 2\n",
    "\n",
    "# import logging\n",
    "import pytorch_lightning as pl\n",
    "# import warnings\n",
    "\n",
    "# warnings.filterwarnings('ignore')\n",
    "# logging.getLogger(\"pytorch_lightning\").setLevel(logging.ERROR)"
   ]
  },
  {
   "cell_type": "markdown",
   "id": "82f989bc",
   "metadata": {
    "id": "82f989bc"
   },
   "source": [
    "## Data preproccessing"
   ]
  },
  {
   "cell_type": "code",
   "execution_count": null,
   "id": "7e06bd27",
   "metadata": {
    "ExecuteTime": {
     "end_time": "2023-08-11T13:38:53.307819Z",
     "start_time": "2023-08-11T13:38:51.902978Z"
    },
    "id": "7e06bd27",
    "outputId": "5e720d0f-7d8a-434e-ad88-e59dfea0f89b"
   },
   "outputs": [
    {
     "name": "stderr",
     "output_type": "stream",
     "text": [
      "/var/folders/fh/nkpqs_9s5kgfkv3q_ssvzjxh0000gn/T/ipykernel_73731/3395857157.py:6: DtypeWarning: Columns (3) have mixed types. Specify dtype option on import or set low_memory=False.\n",
      "  source_data = pd.read_csv(os.path.join(data_path, 'for_sequential_encoding_basis_graph_edge.csv'))\n"
     ]
    },
    {
     "data": {
      "text/plain": [
       "'\\nThe above dataset was prepared by samriddh using the process mentioned in this notebook - which is hidden as of now\\nhttps://colab.research.google.com/drive/1SMhyQWijcdAPVG_dr4YSJo0icc3t4hLY\\n'"
      ]
     },
     "execution_count": 7,
     "metadata": {},
     "output_type": "execute_result"
    }
   ],
   "source": [
    "import os\n",
    "import pandas as pd\n",
    "\n",
    "data_path = '../data/'\n",
    "\n",
    "source_data = pd.read_csv(os.path.join(data_path, 'for_sequential_encoding_basis_graph_edge.csv'))\n",
    "\n",
    "\"\"\"\n",
    "The above dataset was prepared by samriddh using the process mentioned in this notebook - which is hidden as of now\n",
    "https://colab.research.google.com/drive/1SMhyQWijcdAPVG_dr4YSJo0icc3t4hLY\n",
    "\"\"\""
   ]
  },
  {
   "cell_type": "code",
   "execution_count": null,
   "id": "7fd15126",
   "metadata": {
    "ExecuteTime": {
     "end_time": "2023-08-11T13:38:53.378871Z",
     "start_time": "2023-08-11T13:38:53.345311Z"
    },
    "id": "7fd15126",
    "outputId": "a3a578cd-2efd-4e07-b6a0-b3489c8eed8b"
   },
   "outputs": [
    {
     "data": {
      "text/plain": [
       "Unnamed: 0                           int64\n",
       "user_id                              int64\n",
       "product_type                        object\n",
       "destination_bank_account_number     object\n",
       "customer_id                         object\n",
       "amount                             float64\n",
       "transaction_date                    object\n",
       "reciver_user_id                     object\n",
       "dtype: object"
      ]
     },
     "execution_count": 9,
     "metadata": {},
     "output_type": "execute_result"
    }
   ],
   "source": [
    "source_data.dtypes"
   ]
  },
  {
   "cell_type": "code",
   "execution_count": null,
   "id": "b60fbd77",
   "metadata": {
    "ExecuteTime": {
     "end_time": "2023-08-11T13:38:53.411677Z",
     "start_time": "2023-08-11T13:38:53.381601Z"
    },
    "id": "b60fbd77",
    "outputId": "c3b26c94-95cd-45c4-dd56-040d4ecefda0"
   },
   "outputs": [
    {
     "data": {
      "text/plain": [
       "(1549932, 8)"
      ]
     },
     "execution_count": 10,
     "metadata": {},
     "output_type": "execute_result"
    }
   ],
   "source": [
    "source_data.shape"
   ]
  },
  {
   "cell_type": "code",
   "execution_count": null,
   "id": "771fe72b",
   "metadata": {
    "ExecuteTime": {
     "end_time": "2023-08-11T13:38:53.771096Z",
     "start_time": "2023-08-11T13:38:53.412669Z"
    },
    "id": "771fe72b"
   },
   "outputs": [],
   "source": [
    "source_data.user_id = source_data.user_id.astype(str)"
   ]
  },
  {
   "cell_type": "code",
   "execution_count": null,
   "id": "da0edf66",
   "metadata": {
    "ExecuteTime": {
     "end_time": "2023-08-11T13:38:53.882302Z",
     "start_time": "2023-08-11T13:38:53.772018Z"
    },
    "id": "da0edf66"
   },
   "outputs": [],
   "source": [
    "source_data.transaction_date = pd.to_datetime(source_data.transaction_date)"
   ]
  },
  {
   "cell_type": "code",
   "execution_count": null,
   "id": "8662a38f",
   "metadata": {
    "ExecuteTime": {
     "end_time": "2023-08-11T13:38:53.911928Z",
     "start_time": "2023-08-11T13:38:53.883115Z"
    },
    "id": "8662a38f"
   },
   "outputs": [],
   "source": [
    "# source_data.apply(lambda x : str(x.user_id)+\"_\"+source_data['reciver_user_id'],axis=1)"
   ]
  },
  {
   "cell_type": "markdown",
   "id": "398f3eb1",
   "metadata": {
    "id": "398f3eb1"
   },
   "source": [
    "##### Creating Pair of edge"
   ]
  },
  {
   "cell_type": "code",
   "execution_count": null,
   "id": "1ffe3abc",
   "metadata": {
    "ExecuteTime": {
     "end_time": "2023-08-11T13:38:53.986446Z",
     "start_time": "2023-08-11T13:38:53.912797Z"
    },
    "id": "1ffe3abc"
   },
   "outputs": [],
   "source": [
    "key1 = {j:i for i,j in enumerate(sorted(list(source_data.user_id.unique())))}"
   ]
  },
  {
   "cell_type": "code",
   "execution_count": null,
   "id": "ccf16262",
   "metadata": {
    "ExecuteTime": {
     "end_time": "2023-08-11T13:38:54.104380Z",
     "start_time": "2023-08-11T13:38:53.987297Z"
    },
    "id": "ccf16262"
   },
   "outputs": [],
   "source": [
    "source_data['user_idc'] = source_data.user_id.map(key1)"
   ]
  },
  {
   "cell_type": "markdown",
   "id": "ee4c8329",
   "metadata": {
    "id": "ee4c8329"
   },
   "source": [
    "##### Creating Time Reference"
   ]
  },
  {
   "cell_type": "code",
   "execution_count": null,
   "id": "d7e9f4db",
   "metadata": {
    "ExecuteTime": {
     "end_time": "2023-08-11T13:38:54.217072Z",
     "start_time": "2023-08-11T13:38:54.138279Z"
    },
    "id": "d7e9f4db"
   },
   "outputs": [],
   "source": [
    "key2 = source_data.groupby('user_id')[['transaction_date']].min().reset_index()"
   ]
  },
  {
   "cell_type": "code",
   "execution_count": null,
   "id": "478371b7",
   "metadata": {
    "ExecuteTime": {
     "end_time": "2023-08-11T13:38:54.247794Z",
     "start_time": "2023-08-11T13:38:54.218141Z"
    },
    "id": "478371b7"
   },
   "outputs": [],
   "source": [
    "key2 = key2.rename(columns={'transaction_date':'first_txn_date'})"
   ]
  },
  {
   "cell_type": "code",
   "execution_count": null,
   "id": "d45e2a2c",
   "metadata": {
    "ExecuteTime": {
     "end_time": "2023-08-11T13:38:54.446870Z",
     "start_time": "2023-08-11T13:38:54.281146Z"
    },
    "id": "d45e2a2c"
   },
   "outputs": [],
   "source": [
    "source_data = source_data.merge(key2,on='user_id',how='left')"
   ]
  },
  {
   "cell_type": "code",
   "execution_count": null,
   "id": "473705e0",
   "metadata": {
    "ExecuteTime": {
     "end_time": "2023-08-11T13:38:54.497185Z",
     "start_time": "2023-08-11T13:38:54.447817Z"
    },
    "id": "473705e0"
   },
   "outputs": [],
   "source": [
    "source_data['time_delta'] = (source_data.transaction_date - source_data.first_txn_date).dt.days"
   ]
  },
  {
   "cell_type": "markdown",
   "id": "51a4938a",
   "metadata": {
    "id": "51a4938a"
   },
   "source": [
    "##### Creating Transaction Category"
   ]
  },
  {
   "cell_type": "code",
   "execution_count": null,
   "id": "6c779c13",
   "metadata": {
    "ExecuteTime": {
     "end_time": "2023-08-11T13:38:54.597528Z",
     "start_time": "2023-08-11T13:38:54.531186Z"
    },
    "id": "6c779c13"
   },
   "outputs": [],
   "source": [
    "key3 = pd.DataFrame(source_data.product_type.unique(),columns=['product_type']).reset_index().rename(columns={'index':'txn_type_id'})"
   ]
  },
  {
   "cell_type": "code",
   "execution_count": null,
   "id": "cdd53351",
   "metadata": {
    "ExecuteTime": {
     "end_time": "2023-08-11T13:38:54.629629Z",
     "start_time": "2023-08-11T13:38:54.598356Z"
    },
    "id": "cdd53351",
    "outputId": "f7a41f37-6b3e-40a7-ad87-896e90522157"
   },
   "outputs": [
    {
     "data": {
      "text/html": [
       "<div>\n",
       "<style scoped>\n",
       "    .dataframe tbody tr th:only-of-type {\n",
       "        vertical-align: middle;\n",
       "    }\n",
       "\n",
       "    .dataframe tbody tr th {\n",
       "        vertical-align: top;\n",
       "    }\n",
       "\n",
       "    .dataframe thead th {\n",
       "        text-align: right;\n",
       "    }\n",
       "</style>\n",
       "<table border=\"1\" class=\"dataframe\">\n",
       "  <thead>\n",
       "    <tr style=\"text-align: right;\">\n",
       "      <th></th>\n",
       "      <th>txn_type_id</th>\n",
       "      <th>product_type</th>\n",
       "    </tr>\n",
       "  </thead>\n",
       "  <tbody>\n",
       "    <tr>\n",
       "      <th>0</th>\n",
       "      <td>0</td>\n",
       "      <td>PPOB</td>\n",
       "    </tr>\n",
       "    <tr>\n",
       "      <th>1</th>\n",
       "      <td>1</td>\n",
       "      <td>Payment Out</td>\n",
       "    </tr>\n",
       "    <tr>\n",
       "      <th>2</th>\n",
       "      <td>2</td>\n",
       "      <td>Payment In</td>\n",
       "    </tr>\n",
       "    <tr>\n",
       "      <th>3</th>\n",
       "      <td>3</td>\n",
       "      <td>SALDO</td>\n",
       "    </tr>\n",
       "    <tr>\n",
       "      <th>4</th>\n",
       "      <td>4</td>\n",
       "      <td>QRIS</td>\n",
       "    </tr>\n",
       "  </tbody>\n",
       "</table>\n",
       "</div>"
      ],
      "text/plain": [
       "   txn_type_id product_type\n",
       "0            0         PPOB\n",
       "1            1  Payment Out\n",
       "2            2   Payment In\n",
       "3            3        SALDO\n",
       "4            4         QRIS"
      ]
     },
     "execution_count": 24,
     "metadata": {},
     "output_type": "execute_result"
    }
   ],
   "source": [
    "key3"
   ]
  },
  {
   "cell_type": "code",
   "execution_count": null,
   "id": "b72b2ba2",
   "metadata": {
    "ExecuteTime": {
     "end_time": "2023-08-11T13:38:54.800679Z",
     "start_time": "2023-08-11T13:38:54.630502Z"
    },
    "id": "b72b2ba2"
   },
   "outputs": [],
   "source": [
    "source_data = source_data.merge(key3,on='product_type',how='left')"
   ]
  },
  {
   "cell_type": "markdown",
   "id": "3197a842",
   "metadata": {
    "id": "3197a842"
   },
   "source": [
    "#### Processing"
   ]
  },
  {
   "cell_type": "code",
   "execution_count": null,
   "id": "298f2fba",
   "metadata": {
    "ExecuteTime": {
     "end_time": "2023-08-11T13:38:55.046672Z",
     "start_time": "2023-08-11T13:38:54.834915Z"
    },
    "id": "298f2fba"
   },
   "outputs": [],
   "source": [
    "checkpoint = source_data.copy()"
   ]
  },
  {
   "cell_type": "code",
   "execution_count": null,
   "id": "db809771",
   "metadata": {
    "ExecuteTime": {
     "end_time": "2023-08-11T13:38:55.092776Z",
     "start_time": "2023-08-11T13:38:55.051371Z"
    },
    "id": "db809771"
   },
   "outputs": [],
   "source": [
    "source_data = source_data[['user_idc','time_delta','txn_type_id','amount']]"
   ]
  },
  {
   "cell_type": "code",
   "execution_count": null,
   "id": "12bd4795",
   "metadata": {
    "ExecuteTime": {
     "end_time": "2023-08-11T13:38:55.125703Z",
     "start_time": "2023-08-11T13:38:55.093735Z"
    },
    "id": "12bd4795",
    "outputId": "8b389ec4-1f6d-460b-a154-50e3c762c951"
   },
   "outputs": [
    {
     "data": {
      "text/html": [
       "<div>\n",
       "<style scoped>\n",
       "    .dataframe tbody tr th:only-of-type {\n",
       "        vertical-align: middle;\n",
       "    }\n",
       "\n",
       "    .dataframe tbody tr th {\n",
       "        vertical-align: top;\n",
       "    }\n",
       "\n",
       "    .dataframe thead th {\n",
       "        text-align: right;\n",
       "    }\n",
       "</style>\n",
       "<table border=\"1\" class=\"dataframe\">\n",
       "  <thead>\n",
       "    <tr style=\"text-align: right;\">\n",
       "      <th></th>\n",
       "      <th>user_idc</th>\n",
       "      <th>time_delta</th>\n",
       "      <th>txn_type_id</th>\n",
       "      <th>amount</th>\n",
       "    </tr>\n",
       "  </thead>\n",
       "  <tbody>\n",
       "    <tr>\n",
       "      <th>0</th>\n",
       "      <td>59</td>\n",
       "      <td>174</td>\n",
       "      <td>0</td>\n",
       "      <td>29050.0</td>\n",
       "    </tr>\n",
       "    <tr>\n",
       "      <th>1</th>\n",
       "      <td>59</td>\n",
       "      <td>174</td>\n",
       "      <td>0</td>\n",
       "      <td>17500.0</td>\n",
       "    </tr>\n",
       "  </tbody>\n",
       "</table>\n",
       "</div>"
      ],
      "text/plain": [
       "   user_idc  time_delta  txn_type_id   amount\n",
       "0        59         174            0  29050.0\n",
       "1        59         174            0  17500.0"
      ]
     },
     "execution_count": 29,
     "metadata": {},
     "output_type": "execute_result"
    }
   ],
   "source": [
    "source_data.head(2)"
   ]
  },
  {
   "cell_type": "code",
   "execution_count": null,
   "id": "8615b722",
   "metadata": {
    "ExecuteTime": {
     "end_time": "2023-08-11T13:38:55.535489Z",
     "start_time": "2023-08-11T13:38:55.126606Z"
    },
    "execution": {
     "iopub.execute_input": "2022-05-04T18:11:12.324005Z",
     "iopub.status.busy": "2022-05-04T18:11:12.323387Z",
     "iopub.status.idle": "2022-05-04T18:11:12.376973Z",
     "shell.execute_reply": "2022-05-04T18:11:12.376546Z"
    },
    "id": "8615b722"
   },
   "outputs": [],
   "source": [
    "from ptls.preprocessing import PandasDataPreprocessor\n",
    "\n",
    "preprocessor = PandasDataPreprocessor(\n",
    "    col_id='user_idc',\n",
    "    col_event_time='time_delta',\n",
    "    event_time_transformation='none',\n",
    "    cols_category=['txn_type_id'],\n",
    "    cols_numerical=['amount'],\n",
    "    return_records=True,\n",
    ")"
   ]
  },
  {
   "cell_type": "code",
   "execution_count": null,
   "id": "fca72f6e",
   "metadata": {
    "ExecuteTime": {
     "end_time": "2023-08-11T13:38:56.928592Z",
     "start_time": "2023-08-11T13:38:55.536548Z"
    },
    "execution": {
     "iopub.execute_input": "2022-05-04T18:11:12.380482Z",
     "iopub.status.busy": "2022-05-04T18:11:12.380011Z",
     "iopub.status.idle": "2022-05-04T18:12:29.766372Z",
     "shell.execute_reply": "2022-05-04T18:12:29.766793Z"
    },
    "id": "fca72f6e",
    "outputId": "94cf3775-1246-4e73-f706-992ff1774416"
   },
   "outputs": [
    {
     "name": "stdout",
     "output_type": "stream",
     "text": [
      "CPU times: user 1.18 s, sys: 145 ms, total: 1.33 s\n",
      "Wall time: 1.35 s\n"
     ]
    }
   ],
   "source": [
    "%%time\n",
    "\n",
    "dataset = preprocessor.fit_transform(source_data)"
   ]
  },
  {
   "cell_type": "code",
   "execution_count": null,
   "id": "4a747c9b",
   "metadata": {
    "ExecuteTime": {
     "end_time": "2023-08-11T13:38:56.968403Z",
     "start_time": "2023-08-11T13:38:56.929513Z"
    },
    "id": "4a747c9b"
   },
   "outputs": [],
   "source": [
    "import pickle\n",
    "\n",
    "with open('../data/preprocessor2_node_level.p', 'wb') as f:\n",
    "    pickle.dump(preprocessor, f)"
   ]
  },
  {
   "cell_type": "code",
   "execution_count": null,
   "id": "0e4ca12d",
   "metadata": {
    "ExecuteTime": {
     "end_time": "2023-08-11T13:38:57.005664Z",
     "start_time": "2023-08-11T13:38:56.969489Z"
    },
    "id": "0e4ca12d"
   },
   "outputs": [],
   "source": [
    "dataset = sorted(dataset, key=lambda x: x['user_idc'])"
   ]
  },
  {
   "cell_type": "code",
   "execution_count": null,
   "id": "e695d62a",
   "metadata": {
    "ExecuteTime": {
     "end_time": "2023-08-11T13:38:57.041491Z",
     "start_time": "2023-08-11T13:38:57.006558Z"
    },
    "id": "e695d62a",
    "outputId": "a64d22f4-bb88-4f68-d7ed-c3d37eba80e4"
   },
   "outputs": [
    {
     "data": {
      "text/plain": [
       "2129"
      ]
     },
     "execution_count": 34,
     "metadata": {},
     "output_type": "execute_result"
    }
   ],
   "source": [
    "max(key1.values())"
   ]
  },
  {
   "cell_type": "code",
   "execution_count": null,
   "id": "98e7d39d",
   "metadata": {
    "ExecuteTime": {
     "end_time": "2023-08-11T13:38:57.123671Z",
     "start_time": "2023-08-11T13:38:57.042437Z"
    },
    "execution": {
     "iopub.execute_input": "2022-05-04T18:12:29.770820Z",
     "iopub.status.busy": "2022-05-04T18:12:29.770330Z",
     "iopub.status.idle": "2022-05-04T18:12:30.164858Z",
     "shell.execute_reply": "2022-05-04T18:12:30.165297Z"
    },
    "id": "98e7d39d",
    "outputId": "d3df7c65-0454-4f3a-9478-31c3bec64d07"
   },
   "outputs": [
    {
     "data": {
      "text/plain": [
       "(1704, 426)"
      ]
     },
     "execution_count": 35,
     "metadata": {},
     "output_type": "execute_result"
    }
   ],
   "source": [
    "from sklearn.model_selection import train_test_split\n",
    "\n",
    "train, test = train_test_split(dataset, test_size=0.2, random_state=42)\n",
    "\n",
    "len(train), len(test)"
   ]
  },
  {
   "cell_type": "code",
   "execution_count": null,
   "id": "5af110e1",
   "metadata": {
    "ExecuteTime": {
     "end_time": "2023-08-11T13:38:59.754109Z",
     "start_time": "2023-08-11T13:38:59.713310Z"
    },
    "id": "5af110e1",
    "outputId": "1c83eab7-4212-4135-a757-1c4e100db9a6"
   },
   "outputs": [
    {
     "data": {
      "text/plain": [
       "dict_keys(['user_idc', 'time_delta', 'event_time', 'txn_type_id', 'amount'])"
      ]
     },
     "execution_count": 38,
     "metadata": {},
     "output_type": "execute_result"
    }
   ],
   "source": [
    "train[0].keys()"
   ]
  },
  {
   "cell_type": "markdown",
   "id": "f9080a6f",
   "metadata": {
    "id": "f9080a6f"
   },
   "source": [
    "## Embedding training"
   ]
  },
  {
   "cell_type": "markdown",
   "id": "56493c0b",
   "metadata": {
    "id": "56493c0b"
   },
   "source": [
    "Model training in our framework organised via pytorch-lightning (pl) framework.\n",
    "The key parts of neural networks training in pl are:\n",
    "\n",
    "    * model (`pytorch_lightning.LightningModule`)\n",
    "    * data loader (`torch.utils.data.DataLoader`)\n",
    "    * trainer (`pytorch_lightning.Trainer`)\n",
    "    \n",
    "For futher details check https://pytorchlightning.ai/"
   ]
  },
  {
   "cell_type": "markdown",
   "id": "43a6ee58",
   "metadata": {
    "id": "43a6ee58"
   },
   "source": [
    "### Model definition"
   ]
  },
  {
   "cell_type": "code",
   "execution_count": null,
   "id": "cf56b807",
   "metadata": {
    "ExecuteTime": {
     "end_time": "2023-08-11T13:38:59.791827Z",
     "start_time": "2023-08-11T13:38:59.755017Z"
    },
    "id": "cf56b807",
    "outputId": "24f77d5b-827f-4165-d771-cb07cb960b67"
   },
   "outputs": [
    {
     "data": {
      "text/html": [
       "<div>\n",
       "<style scoped>\n",
       "    .dataframe tbody tr th:only-of-type {\n",
       "        vertical-align: middle;\n",
       "    }\n",
       "\n",
       "    .dataframe tbody tr th {\n",
       "        vertical-align: top;\n",
       "    }\n",
       "\n",
       "    .dataframe thead th {\n",
       "        text-align: right;\n",
       "    }\n",
       "</style>\n",
       "<table border=\"1\" class=\"dataframe\">\n",
       "  <thead>\n",
       "    <tr style=\"text-align: right;\">\n",
       "      <th></th>\n",
       "      <th>user_idc</th>\n",
       "      <th>time_delta</th>\n",
       "      <th>txn_type_id</th>\n",
       "      <th>amount</th>\n",
       "    </tr>\n",
       "  </thead>\n",
       "  <tbody>\n",
       "    <tr>\n",
       "      <th>0</th>\n",
       "      <td>59</td>\n",
       "      <td>174</td>\n",
       "      <td>0</td>\n",
       "      <td>29050.0</td>\n",
       "    </tr>\n",
       "    <tr>\n",
       "      <th>1</th>\n",
       "      <td>59</td>\n",
       "      <td>174</td>\n",
       "      <td>0</td>\n",
       "      <td>17500.0</td>\n",
       "    </tr>\n",
       "  </tbody>\n",
       "</table>\n",
       "</div>"
      ],
      "text/plain": [
       "   user_idc  time_delta  txn_type_id   amount\n",
       "0        59         174            0  29050.0\n",
       "1        59         174            0  17500.0"
      ]
     },
     "execution_count": 39,
     "metadata": {},
     "output_type": "execute_result"
    }
   ],
   "source": [
    "source_data.head(2)"
   ]
  },
  {
   "cell_type": "code",
   "execution_count": null,
   "id": "ad3fab77",
   "metadata": {
    "ExecuteTime": {
     "end_time": "2023-08-11T13:38:59.878016Z",
     "start_time": "2023-08-11T13:38:59.792698Z"
    },
    "id": "ad3fab77",
    "outputId": "b43f4b2e-3ab0-4e73-dfd8-280f9ad01ed7"
   },
   "outputs": [
    {
     "data": {
      "text/html": [
       "<div>\n",
       "<style scoped>\n",
       "    .dataframe tbody tr th:only-of-type {\n",
       "        vertical-align: middle;\n",
       "    }\n",
       "\n",
       "    .dataframe tbody tr th {\n",
       "        vertical-align: top;\n",
       "    }\n",
       "\n",
       "    .dataframe thead th {\n",
       "        text-align: right;\n",
       "    }\n",
       "</style>\n",
       "<table border=\"1\" class=\"dataframe\">\n",
       "  <thead>\n",
       "    <tr style=\"text-align: right;\">\n",
       "      <th></th>\n",
       "      <th>time_delta</th>\n",
       "      <th>txn_type_id</th>\n",
       "    </tr>\n",
       "  </thead>\n",
       "  <tbody>\n",
       "    <tr>\n",
       "      <th>count</th>\n",
       "      <td>1.549932e+06</td>\n",
       "      <td>1.549932e+06</td>\n",
       "    </tr>\n",
       "    <tr>\n",
       "      <th>mean</th>\n",
       "      <td>1.381259e+02</td>\n",
       "      <td>1.022795e+00</td>\n",
       "    </tr>\n",
       "    <tr>\n",
       "      <th>std</th>\n",
       "      <td>1.046455e+02</td>\n",
       "      <td>4.981519e-01</td>\n",
       "    </tr>\n",
       "    <tr>\n",
       "      <th>min</th>\n",
       "      <td>0.000000e+00</td>\n",
       "      <td>0.000000e+00</td>\n",
       "    </tr>\n",
       "    <tr>\n",
       "      <th>25%</th>\n",
       "      <td>5.500000e+01</td>\n",
       "      <td>1.000000e+00</td>\n",
       "    </tr>\n",
       "    <tr>\n",
       "      <th>50%</th>\n",
       "      <td>1.140000e+02</td>\n",
       "      <td>1.000000e+00</td>\n",
       "    </tr>\n",
       "    <tr>\n",
       "      <th>75%</th>\n",
       "      <td>2.000000e+02</td>\n",
       "      <td>1.000000e+00</td>\n",
       "    </tr>\n",
       "    <tr>\n",
       "      <th>max</th>\n",
       "      <td>6.310000e+02</td>\n",
       "      <td>4.000000e+00</td>\n",
       "    </tr>\n",
       "  </tbody>\n",
       "</table>\n",
       "</div>"
      ],
      "text/plain": [
       "         time_delta   txn_type_id\n",
       "count  1.549932e+06  1.549932e+06\n",
       "mean   1.381259e+02  1.022795e+00\n",
       "std    1.046455e+02  4.981519e-01\n",
       "min    0.000000e+00  0.000000e+00\n",
       "25%    5.500000e+01  1.000000e+00\n",
       "50%    1.140000e+02  1.000000e+00\n",
       "75%    2.000000e+02  1.000000e+00\n",
       "max    6.310000e+02  4.000000e+00"
      ]
     },
     "execution_count": 40,
     "metadata": {},
     "output_type": "execute_result"
    }
   ],
   "source": [
    "source_data[['time_delta','txn_type_id']].describe()"
   ]
  },
  {
   "cell_type": "code",
   "execution_count": null,
   "id": "988c508d",
   "metadata": {
    "ExecuteTime": {
     "end_time": "2023-08-11T13:38:59.979593Z",
     "start_time": "2023-08-11T13:38:59.878823Z"
    },
    "execution": {
     "iopub.execute_input": "2022-05-04T18:12:30.169403Z",
     "iopub.status.busy": "2022-05-04T18:12:30.168916Z",
     "iopub.status.idle": "2022-05-04T18:12:30.240250Z",
     "shell.execute_reply": "2022-05-04T18:12:30.239734Z"
    },
    "id": "988c508d"
   },
   "outputs": [],
   "source": [
    "from functools import partial\n",
    "from ptls.nn import TrxEncoder, RnnSeqEncoder\n",
    "from ptls.frames.coles import CoLESModule\n",
    "\n",
    "trx_encoder_params = dict(\n",
    "    embeddings_noise=0.003,\n",
    "    numeric_values={'amount': 'identity'},\n",
    "    embeddings={\n",
    "        'time_delta': {'in': 650, 'out': 16},\n",
    "        'txn_type_id': {'in': 5, 'out': 2},\n",
    "    },\n",
    ")\n",
    "\n",
    "seq_encoder = RnnSeqEncoder(\n",
    "    trx_encoder=TrxEncoder(**trx_encoder_params),\n",
    "    hidden_size=256,\n",
    "    type='gru',\n",
    ")\n",
    "\n",
    "model = CoLESModule(\n",
    "    seq_encoder=seq_encoder,\n",
    "    optimizer_partial=partial(torch.optim.Adam, lr=0.001),\n",
    "    lr_scheduler_partial=partial(torch.optim.lr_scheduler.StepLR, step_size=30, gamma=0.9),\n",
    ")"
   ]
  },
  {
   "cell_type": "markdown",
   "id": "87997ac0",
   "metadata": {
    "id": "87997ac0"
   },
   "source": [
    "### Data loader"
   ]
  },
  {
   "cell_type": "code",
   "execution_count": null,
   "id": "624065bf",
   "metadata": {
    "ExecuteTime": {
     "end_time": "2023-08-11T13:39:00.026358Z",
     "start_time": "2023-08-11T13:38:59.980387Z"
    },
    "execution": {
     "iopub.execute_input": "2022-05-04T18:12:30.244098Z",
     "iopub.status.busy": "2022-05-04T18:12:30.243491Z",
     "iopub.status.idle": "2022-05-04T18:12:30.281553Z",
     "shell.execute_reply": "2022-05-04T18:12:30.281940Z"
    },
    "id": "624065bf"
   },
   "outputs": [],
   "source": [
    "from ptls.data_load.datasets import MemoryMapDataset\n",
    "from ptls.data_load.iterable_processing import SeqLenFilter\n",
    "from ptls.frames.coles import ColesDataset\n",
    "from ptls.frames.coles.split_strategy import SampleSlices\n",
    "from ptls.frames import PtlsDataModule\n",
    "\n",
    "train_dl = PtlsDataModule(\n",
    "    train_data=ColesDataset(\n",
    "        MemoryMapDataset(\n",
    "            data=train,\n",
    "            i_filters=[\n",
    "                SeqLenFilter(min_seq_len=25),\n",
    "            ],\n",
    "        ),\n",
    "        splitter=SampleSlices(\n",
    "            split_count=5,\n",
    "            cnt_min=25,\n",
    "            cnt_max=200,\n",
    "        ),\n",
    "    ),\n",
    "    train_num_workers=16,\n",
    "    train_batch_size=256,\n",
    ")"
   ]
  },
  {
   "cell_type": "markdown",
   "id": "fc9a09be",
   "metadata": {
    "id": "fc9a09be"
   },
   "source": [
    "### Trainer"
   ]
  },
  {
   "cell_type": "code",
   "execution_count": null,
   "id": "c89192a4",
   "metadata": {
    "ExecuteTime": {
     "end_time": "2023-08-11T13:39:00.073776Z",
     "start_time": "2023-08-11T13:39:00.027990Z"
    },
    "id": "c89192a4",
    "outputId": "d9241eda-0355-49f0-ca90-193a4d687249",
    "scrolled": true
   },
   "outputs": [
    {
     "data": {
      "text/plain": [
       "device(type='mps')"
      ]
     },
     "execution_count": 43,
     "metadata": {},
     "output_type": "execute_result"
    }
   ],
   "source": [
    "torch.device(\"mps\")"
   ]
  },
  {
   "cell_type": "code",
   "execution_count": null,
   "id": "18b27aee",
   "metadata": {
    "ExecuteTime": {
     "end_time": "2023-08-11T13:39:00.127213Z",
     "start_time": "2023-08-11T13:39:00.074666Z"
    },
    "id": "18b27aee",
    "outputId": "0be13868-a5a7-4654-d923-d01781ba348d"
   },
   "outputs": [
    {
     "data": {
      "text/plain": [
       "True"
      ]
     },
     "execution_count": 44,
     "metadata": {},
     "output_type": "execute_result"
    }
   ],
   "source": [
    "torch.backends.mps.is_available()"
   ]
  },
  {
   "cell_type": "code",
   "execution_count": null,
   "id": "87254d74",
   "metadata": {
    "ExecuteTime": {
     "end_time": "2023-08-11T13:39:00.165092Z",
     "start_time": "2023-08-11T13:39:00.128166Z"
    },
    "id": "87254d74",
    "outputId": "c1d02a22-3926-44b0-94ec-da82383a6512"
   },
   "outputs": [
    {
     "data": {
      "text/plain": [
       "True"
      ]
     },
     "execution_count": 45,
     "metadata": {},
     "output_type": "execute_result"
    }
   ],
   "source": [
    "torch.backends.mps.is_built()"
   ]
  },
  {
   "cell_type": "code",
   "execution_count": null,
   "id": "8fdbb67d",
   "metadata": {
    "ExecuteTime": {
     "end_time": "2023-08-11T13:39:00.204944Z",
     "start_time": "2023-08-11T13:39:00.165941Z"
    },
    "execution": {
     "iopub.execute_input": "2022-05-04T18:12:30.285432Z",
     "iopub.status.busy": "2022-05-04T18:12:30.284949Z",
     "iopub.status.idle": "2022-05-04T18:12:30.325745Z",
     "shell.execute_reply": "2022-05-04T18:12:30.325312Z"
    },
    "id": "8fdbb67d",
    "outputId": "2d2a21a9-f925-447e-f768-09cb9f9e348f"
   },
   "outputs": [
    {
     "name": "stderr",
     "output_type": "stream",
     "text": [
      "GPU available: False, used: False\n",
      "TPU available: False, using: 0 TPU cores\n",
      "IPU available: False, using: 0 IPUs\n",
      "HPU available: False, using: 0 HPUs\n"
     ]
    }
   ],
   "source": [
    "import torch\n",
    "import pytorch_lightning as pl\n",
    "\n",
    "import logging\n",
    "\n",
    "trainer = pl.Trainer(\n",
    "    max_epochs=100,\n",
    "#     gpus=1 if torch.backends.mps.is_available() else 0,\n",
    "    accelerator=\"mps\",\n",
    "    enable_progress_bar=True,\n",
    ")"
   ]
  },
  {
   "cell_type": "markdown",
   "id": "a88078a3",
   "metadata": {
    "id": "a88078a3"
   },
   "source": [
    "### Training"
   ]
  },
  {
   "cell_type": "code",
   "execution_count": null,
   "id": "f40877df",
   "metadata": {
    "ExecuteTime": {
     "end_time": "2023-08-11T15:23:18.921115Z",
     "start_time": "2023-08-11T13:39:00.205841Z"
    },
    "colab": {
     "referenced_widgets": [
      "396fd61e28154c3badba9dd968843436"
     ]
    },
    "execution": {
     "iopub.execute_input": "2022-05-04T18:12:30.328969Z",
     "iopub.status.busy": "2022-05-04T18:12:30.328486Z",
     "iopub.status.idle": "2022-05-04T18:23:09.969669Z",
     "shell.execute_reply": "2022-05-04T18:23:09.969186Z"
    },
    "id": "f40877df",
    "outputId": "5dc1a555-2eb0-4404-a178-7d34b5b23e27",
    "scrolled": false
   },
   "outputs": [
    {
     "name": "stderr",
     "output_type": "stream",
     "text": [
      "/Users/sam/miniconda3/envs/work-py38-pycaret-test/lib/python3.8/site-packages/pytorch_lightning/trainer/configuration_validator.py:133: UserWarning: You defined a `validation_step` but have no `val_dataloader`. Skipping val loop.\n",
      "  rank_zero_warn(\"You defined a `validation_step` but have no `val_dataloader`. Skipping val loop.\")\n",
      "\n",
      "  | Name               | Type            | Params\n",
      "-------------------------------------------------------\n",
      "0 | _loss              | ContrastiveLoss | 0     \n",
      "1 | _seq_encoder       | RnnSeqEncoder   | 223 K \n",
      "2 | _validation_metric | BatchRecallTopK | 0     \n",
      "3 | _head              | Head            | 0     \n",
      "-------------------------------------------------------\n",
      "223 K     Trainable params\n",
      "0         Non-trainable params\n",
      "223 K     Total params\n",
      "0.894     Total estimated model params size (MB)\n"
     ]
    },
    {
     "name": "stdout",
     "output_type": "stream",
     "text": [
      "logger.version = 22\n"
     ]
    },
    {
     "name": "stderr",
     "output_type": "stream",
     "text": [
      "/Users/sam/miniconda3/envs/work-py38-pycaret-test/lib/python3.8/site-packages/torch/utils/data/dataloader.py:563: UserWarning: This DataLoader will create 16 worker processes in total. Our suggested max number of worker in current system is 8 (`cpuset` is not taken into account), which is smaller than what this DataLoader is going to create. Please be aware that excessive worker creation might get DataLoader running slow or even freeze, lower the worker number to avoid potential slowness/freeze if necessary.\n",
      "  warnings.warn(_create_warning_msg(\n",
      "/Users/sam/miniconda3/envs/work-py38-pycaret-test/lib/python3.8/site-packages/pytorch_lightning/trainer/trainer.py:1933: PossibleUserWarning: The number of training batches (6) is smaller than the logging interval Trainer(log_every_n_steps=50). Set a lower value for log_every_n_steps if you want to see logs for the training epoch.\n",
      "  rank_zero_warn(\n"
     ]
    },
    {
     "data": {
      "application/vnd.jupyter.widget-view+json": {
       "model_id": "396fd61e28154c3badba9dd968843436",
       "version_major": 2,
       "version_minor": 0
      },
      "text/plain": [
       "Training: 0it [00:00, ?it/s]"
      ]
     },
     "metadata": {},
     "output_type": "display_data"
    },
    {
     "name": "stdout",
     "output_type": "stream",
     "text": [
      "{'loss': tensor(407.7321), 'seq_len': tensor(94.8820)}\n",
      "CPU times: user 37min 54s, sys: 36min 7s, total: 1h 14min 2s\n",
      "Wall time: 1h 44min 18s\n"
     ]
    }
   ],
   "source": [
    "%%time\n",
    "print(f'logger.version = {trainer.logger.version}')\n",
    "trainer.fit(model, train_dl)\n",
    "print(trainer.logged_metrics)"
   ]
  },
  {
   "cell_type": "markdown",
   "id": "7aaa35bc",
   "metadata": {
    "id": "7aaa35bc"
   },
   "source": [
    "### Save sequence encoder for other experiments"
   ]
  },
  {
   "cell_type": "code",
   "execution_count": null,
   "id": "50b76d62",
   "metadata": {
    "ExecuteTime": {
     "end_time": "2023-08-12T04:57:33.404496Z",
     "start_time": "2023-08-12T04:57:33.195717Z"
    },
    "id": "50b76d62"
   },
   "outputs": [],
   "source": [
    "torch.save(seq_encoder.state_dict(), \"../data/coles-emb-2_node_level.pt\")"
   ]
  },
  {
   "cell_type": "code",
   "execution_count": null,
   "id": "54ed63f5",
   "metadata": {
    "ExecuteTime": {
     "end_time": "2023-08-12T04:57:34.320727Z",
     "start_time": "2023-08-12T04:57:34.243788Z"
    },
    "id": "54ed63f5"
   },
   "outputs": [],
   "source": [
    "# torch.vstack(trainer.predict(model, train_dl, ))"
   ]
  },
  {
   "cell_type": "markdown",
   "id": "67523ed9",
   "metadata": {
    "id": "67523ed9"
   },
   "source": [
    "##"
   ]
  },
  {
   "cell_type": "code",
   "execution_count": null,
   "id": "5d19be64",
   "metadata": {
    "ExecuteTime": {
     "end_time": "2023-08-12T04:57:36.177451Z",
     "start_time": "2023-08-12T04:57:36.104583Z"
    },
    "id": "5d19be64",
    "outputId": "0c707fd8-4cc4-408d-d6e2-93dc5849f4ff"
   },
   "outputs": [
    {
     "data": {
      "text/plain": [
       "[<pytorch_lightning.loggers.tensorboard.TensorBoardLogger at 0x2bf4ba6d0>]"
      ]
     },
     "execution_count": 53,
     "metadata": {},
     "output_type": "execute_result"
    }
   ],
   "source": [
    "trainer.loggers"
   ]
  },
  {
   "cell_type": "markdown",
   "id": "9d65b5e3",
   "metadata": {
    "id": "9d65b5e3"
   },
   "source": [
    "## Inference"
   ]
  },
  {
   "cell_type": "code",
   "execution_count": null,
   "id": "f466c747",
   "metadata": {
    "ExecuteTime": {
     "end_time": "2023-08-12T04:57:43.700999Z",
     "start_time": "2023-08-12T04:57:43.623359Z"
    },
    "execution": {
     "iopub.execute_input": "2022-05-04T18:23:09.975644Z",
     "iopub.status.busy": "2022-05-04T18:23:09.974439Z",
     "iopub.status.idle": "2022-05-04T18:23:29.425227Z",
     "shell.execute_reply": "2022-05-04T18:23:29.425699Z"
    },
    "id": "f466c747"
   },
   "outputs": [],
   "source": [
    "# embedding inference\n",
    "from ptls.data_load.datasets import inference_data_loader"
   ]
  },
  {
   "cell_type": "code",
   "execution_count": null,
   "id": "f8692f8c",
   "metadata": {
    "ExecuteTime": {
     "end_time": "2023-08-12T04:57:44.981078Z",
     "start_time": "2023-08-12T04:57:44.908165Z"
    },
    "execution": {
     "iopub.execute_input": "2022-05-04T18:23:09.975644Z",
     "iopub.status.busy": "2022-05-04T18:23:09.974439Z",
     "iopub.status.idle": "2022-05-04T18:23:29.425227Z",
     "shell.execute_reply": "2022-05-04T18:23:29.425699Z"
    },
    "id": "f8692f8c"
   },
   "outputs": [],
   "source": [
    "train_dl = inference_data_loader(train, num_workers=0, batch_size=256)"
   ]
  },
  {
   "cell_type": "code",
   "execution_count": null,
   "id": "6a22af89",
   "metadata": {
    "ExecuteTime": {
     "end_time": "2023-08-12T04:57:45.678236Z",
     "start_time": "2023-08-12T04:57:45.606833Z"
    },
    "id": "6a22af89"
   },
   "outputs": [],
   "source": [
    "# trainer.predict(model, train_dl)"
   ]
  },
  {
   "cell_type": "code",
   "execution_count": null,
   "id": "5435adb9",
   "metadata": {
    "ExecuteTime": {
     "end_time": "2023-08-12T04:59:09.355143Z",
     "start_time": "2023-08-12T04:57:46.392758Z"
    },
    "colab": {
     "referenced_widgets": [
      "0d4f294dfb8f46079bb809b7861953b9"
     ]
    },
    "execution": {
     "iopub.execute_input": "2022-05-04T18:23:09.975644Z",
     "iopub.status.busy": "2022-05-04T18:23:09.974439Z",
     "iopub.status.idle": "2022-05-04T18:23:29.425227Z",
     "shell.execute_reply": "2022-05-04T18:23:29.425699Z"
    },
    "id": "5435adb9",
    "outputId": "cd21fa54-ed73-4ce6-b5ff-3562dca66fb0"
   },
   "outputs": [
    {
     "name": "stderr",
     "output_type": "stream",
     "text": [
      "/Users/sam/miniconda3/envs/work-py38-pycaret-test/lib/python3.8/site-packages/pytorch_lightning/trainer/connectors/data_connector.py:240: PossibleUserWarning: The dataloader, predict_dataloader 0, does not have many workers which may be a bottleneck. Consider increasing the value of the `num_workers` argument` (try 8 which is the number of cpus on this machine) in the `DataLoader` init to improve performance.\n",
      "  rank_zero_warn(\n"
     ]
    },
    {
     "data": {
      "application/vnd.jupyter.widget-view+json": {
       "model_id": "0d4f294dfb8f46079bb809b7861953b9",
       "version_major": 2,
       "version_minor": 0
      },
      "text/plain": [
       "Predicting: 6it [00:00, ?it/s]"
      ]
     },
     "metadata": {},
     "output_type": "display_data"
    },
    {
     "name": "stderr",
     "output_type": "stream",
     "text": [
      "/Users/sam/miniconda3/envs/work-py38-pycaret-test/lib/python3.8/site-packages/pytorch_lightning/loops/epoch/prediction_epoch_loop.py:175: UserWarning: Lightning couldn't infer the indices fetched for your dataloader.\n",
      "  warning_cache.warn(\"Lightning couldn't infer the indices fetched for your dataloader.\")\n"
     ]
    },
    {
     "data": {
      "text/plain": [
       "torch.Size([1704, 256])"
      ]
     },
     "execution_count": 57,
     "metadata": {},
     "output_type": "execute_result"
    }
   ],
   "source": [
    "train_embeds = torch.vstack(trainer.predict(model, train_dl))"
   ]
  },
  {
   "cell_type": "code",
   "execution_count": null,
   "id": "fb1c3a78",
   "metadata": {
    "ExecuteTime": {
     "end_time": "2023-08-12T04:59:38.764327Z",
     "start_time": "2023-08-12T04:59:38.475531Z"
    },
    "id": "fb1c3a78",
    "outputId": "49a06206-6c78-49e7-87c0-019931166fbe"
   },
   "outputs": [
    {
     "data": {
      "text/plain": [
       "torch.Size([1704, 256])"
      ]
     },
     "execution_count": 58,
     "metadata": {},
     "output_type": "execute_result"
    }
   ],
   "source": [
    "train_embeds.shape"
   ]
  },
  {
   "cell_type": "code",
   "execution_count": null,
   "id": "3e959a14",
   "metadata": {
    "ExecuteTime": {
     "end_time": "2023-08-12T04:59:42.252838Z",
     "start_time": "2023-08-12T04:59:42.180433Z"
    },
    "execution": {
     "iopub.execute_input": "2022-05-04T18:23:09.975644Z",
     "iopub.status.busy": "2022-05-04T18:23:09.974439Z",
     "iopub.status.idle": "2022-05-04T18:23:29.425227Z",
     "shell.execute_reply": "2022-05-04T18:23:29.425699Z"
    },
    "id": "3e959a14"
   },
   "outputs": [],
   "source": [
    "test_dl = inference_data_loader(test, num_workers=0, batch_size=256)"
   ]
  },
  {
   "cell_type": "code",
   "execution_count": null,
   "id": "4c3cae20",
   "metadata": {
    "ExecuteTime": {
     "end_time": "2023-08-12T05:00:06.923017Z",
     "start_time": "2023-08-12T04:59:43.343327Z"
    },
    "colab": {
     "referenced_widgets": [
      "cb78414b176141239627b56167345b82"
     ]
    },
    "execution": {
     "iopub.execute_input": "2022-05-04T18:23:09.975644Z",
     "iopub.status.busy": "2022-05-04T18:23:09.974439Z",
     "iopub.status.idle": "2022-05-04T18:23:29.425227Z",
     "shell.execute_reply": "2022-05-04T18:23:29.425699Z"
    },
    "id": "4c3cae20",
    "outputId": "32c40bef-3e79-4c8e-ef71-388d21a0ad1c"
   },
   "outputs": [
    {
     "data": {
      "application/vnd.jupyter.widget-view+json": {
       "model_id": "cb78414b176141239627b56167345b82",
       "version_major": 2,
       "version_minor": 0
      },
      "text/plain": [
       "Predicting: 6it [00:00, ?it/s]"
      ]
     },
     "metadata": {},
     "output_type": "display_data"
    }
   ],
   "source": [
    "test_embeds = torch.vstack(trainer.predict(model, test_dl))"
   ]
  },
  {
   "cell_type": "code",
   "execution_count": null,
   "id": "3c32741d",
   "metadata": {
    "ExecuteTime": {
     "end_time": "2023-08-12T05:00:25.850931Z",
     "start_time": "2023-08-12T05:00:25.701301Z"
    },
    "execution": {
     "iopub.execute_input": "2022-05-04T18:23:09.975644Z",
     "iopub.status.busy": "2022-05-04T18:23:09.974439Z",
     "iopub.status.idle": "2022-05-04T18:23:29.425227Z",
     "shell.execute_reply": "2022-05-04T18:23:29.425699Z"
    },
    "id": "3c32741d",
    "outputId": "99b6933f-50a8-45fc-d2f8-f533235b7e7b"
   },
   "outputs": [
    {
     "data": {
      "text/plain": [
       "torch.Size([426, 256])"
      ]
     },
     "execution_count": 61,
     "metadata": {},
     "output_type": "execute_result"
    }
   ],
   "source": [
    "test_embeds.shape"
   ]
  },
  {
   "cell_type": "code",
   "execution_count": null,
   "id": "515f1c96",
   "metadata": {
    "ExecuteTime": {
     "end_time": "2023-08-12T05:00:38.106276Z",
     "start_time": "2023-08-12T05:00:38.023279Z"
    },
    "id": "515f1c96"
   },
   "outputs": [],
   "source": [
    "out1 = pd.concat([pd.DataFrame(train),pd.DataFrame(train_embeds).add_prefix(\"E_\", axis=1)],axis=1)\n",
    "out2 = pd.concat([pd.DataFrame(test),pd.DataFrame(test_embeds).add_prefix(\"E_\", axis=1)],axis=1)"
   ]
  },
  {
   "cell_type": "code",
   "execution_count": null,
   "id": "d12bafa9",
   "metadata": {
    "ExecuteTime": {
     "end_time": "2023-08-12T05:00:40.684086Z",
     "start_time": "2023-08-12T05:00:40.609058Z"
    },
    "id": "d12bafa9"
   },
   "outputs": [],
   "source": [
    "out_concat = pd.concat([out1,out2],axis=0)"
   ]
  },
  {
   "cell_type": "code",
   "execution_count": null,
   "id": "d32d3ddf",
   "metadata": {
    "ExecuteTime": {
     "end_time": "2023-08-12T05:00:53.733833Z",
     "start_time": "2023-08-12T05:00:53.206989Z"
    },
    "id": "d32d3ddf",
    "outputId": "62f34339-b74c-4e3c-b0e0-27edfca6b46b"
   },
   "outputs": [
    {
     "data": {
      "text/html": [
       "<div>\n",
       "<style scoped>\n",
       "    .dataframe tbody tr th:only-of-type {\n",
       "        vertical-align: middle;\n",
       "    }\n",
       "\n",
       "    .dataframe tbody tr th {\n",
       "        vertical-align: top;\n",
       "    }\n",
       "\n",
       "    .dataframe thead th {\n",
       "        text-align: right;\n",
       "    }\n",
       "</style>\n",
       "<table border=\"1\" class=\"dataframe\">\n",
       "  <thead>\n",
       "    <tr style=\"text-align: right;\">\n",
       "      <th></th>\n",
       "      <th>user_idc</th>\n",
       "      <th>time_delta</th>\n",
       "      <th>event_time</th>\n",
       "      <th>txn_type_id</th>\n",
       "      <th>amount</th>\n",
       "      <th>E_0</th>\n",
       "      <th>E_1</th>\n",
       "      <th>E_2</th>\n",
       "      <th>E_3</th>\n",
       "      <th>E_4</th>\n",
       "      <th>...</th>\n",
       "      <th>E_246</th>\n",
       "      <th>E_247</th>\n",
       "      <th>E_248</th>\n",
       "      <th>E_249</th>\n",
       "      <th>E_250</th>\n",
       "      <th>E_251</th>\n",
       "      <th>E_252</th>\n",
       "      <th>E_253</th>\n",
       "      <th>E_254</th>\n",
       "      <th>E_255</th>\n",
       "    </tr>\n",
       "  </thead>\n",
       "  <tbody>\n",
       "    <tr>\n",
       "      <th>0</th>\n",
       "      <td>668</td>\n",
       "      <td>[tensor(0), tensor(1), tensor(1), tensor(1), t...</td>\n",
       "      <td>[tensor(0), tensor(1), tensor(1), tensor(1), t...</td>\n",
       "      <td>[tensor(1), tensor(1), tensor(1), tensor(1), t...</td>\n",
       "      <td>[tensor(15000., dtype=torch.float64), tensor(5...</td>\n",
       "      <td>-0.593855</td>\n",
       "      <td>-0.611140</td>\n",
       "      <td>0.082734</td>\n",
       "      <td>-0.575660</td>\n",
       "      <td>0.443878</td>\n",
       "      <td>...</td>\n",
       "      <td>0.272618</td>\n",
       "      <td>0.117945</td>\n",
       "      <td>-0.156992</td>\n",
       "      <td>-0.448515</td>\n",
       "      <td>-0.293131</td>\n",
       "      <td>-0.587978</td>\n",
       "      <td>0.284134</td>\n",
       "      <td>0.557590</td>\n",
       "      <td>0.584917</td>\n",
       "      <td>0.456724</td>\n",
       "    </tr>\n",
       "    <tr>\n",
       "      <th>1</th>\n",
       "      <td>480</td>\n",
       "      <td>[tensor(0), tensor(0), tensor(1), tensor(1), t...</td>\n",
       "      <td>[tensor(0), tensor(0), tensor(1), tensor(1), t...</td>\n",
       "      <td>[tensor(1), tensor(2), tensor(2), tensor(2), t...</td>\n",
       "      <td>[tensor(50000., dtype=torch.float64), tensor(1...</td>\n",
       "      <td>-0.578030</td>\n",
       "      <td>-0.320370</td>\n",
       "      <td>0.220013</td>\n",
       "      <td>-0.573731</td>\n",
       "      <td>0.481297</td>\n",
       "      <td>...</td>\n",
       "      <td>0.540126</td>\n",
       "      <td>0.167377</td>\n",
       "      <td>-0.140792</td>\n",
       "      <td>-0.340777</td>\n",
       "      <td>-0.352708</td>\n",
       "      <td>-0.597115</td>\n",
       "      <td>0.285930</td>\n",
       "      <td>0.501406</td>\n",
       "      <td>0.328263</td>\n",
       "      <td>0.538547</td>\n",
       "    </tr>\n",
       "    <tr>\n",
       "      <th>2</th>\n",
       "      <td>1460</td>\n",
       "      <td>[tensor(0), tensor(0), tensor(1), tensor(10), ...</td>\n",
       "      <td>[tensor(0), tensor(0), tensor(1), tensor(10), ...</td>\n",
       "      <td>[tensor(1), tensor(2), tensor(1), tensor(1), t...</td>\n",
       "      <td>[tensor(50000., dtype=torch.float64), tensor(5...</td>\n",
       "      <td>-0.129558</td>\n",
       "      <td>-0.307605</td>\n",
       "      <td>0.023770</td>\n",
       "      <td>0.623530</td>\n",
       "      <td>0.254055</td>\n",
       "      <td>...</td>\n",
       "      <td>0.207583</td>\n",
       "      <td>0.231245</td>\n",
       "      <td>-0.143382</td>\n",
       "      <td>-0.382425</td>\n",
       "      <td>-0.209294</td>\n",
       "      <td>-0.199607</td>\n",
       "      <td>0.301591</td>\n",
       "      <td>0.022999</td>\n",
       "      <td>0.244299</td>\n",
       "      <td>0.255303</td>\n",
       "    </tr>\n",
       "    <tr>\n",
       "      <th>3</th>\n",
       "      <td>1202</td>\n",
       "      <td>[tensor(0), tensor(0), tensor(184), tensor(184...</td>\n",
       "      <td>[tensor(0), tensor(0), tensor(184), tensor(184...</td>\n",
       "      <td>[tensor(1), tensor(1), tensor(1), tensor(1), t...</td>\n",
       "      <td>[tensor(10000., dtype=torch.float64), tensor(1...</td>\n",
       "      <td>-0.535776</td>\n",
       "      <td>-0.655172</td>\n",
       "      <td>0.194007</td>\n",
       "      <td>-0.572738</td>\n",
       "      <td>0.292364</td>\n",
       "      <td>...</td>\n",
       "      <td>0.301539</td>\n",
       "      <td>0.044450</td>\n",
       "      <td>-0.159223</td>\n",
       "      <td>-0.443074</td>\n",
       "      <td>-0.397367</td>\n",
       "      <td>-0.515326</td>\n",
       "      <td>0.338897</td>\n",
       "      <td>0.550806</td>\n",
       "      <td>0.728947</td>\n",
       "      <td>0.359654</td>\n",
       "    </tr>\n",
       "    <tr>\n",
       "      <th>4</th>\n",
       "      <td>1623</td>\n",
       "      <td>[tensor(0), tensor(0), tensor(0), tensor(1), t...</td>\n",
       "      <td>[tensor(0), tensor(0), tensor(0), tensor(1), t...</td>\n",
       "      <td>[tensor(1), tensor(1), tensor(1), tensor(1), t...</td>\n",
       "      <td>[tensor(85000., dtype=torch.float64), tensor(2...</td>\n",
       "      <td>-0.521688</td>\n",
       "      <td>-0.491137</td>\n",
       "      <td>0.328950</td>\n",
       "      <td>-0.021091</td>\n",
       "      <td>0.408385</td>\n",
       "      <td>...</td>\n",
       "      <td>0.242539</td>\n",
       "      <td>0.182946</td>\n",
       "      <td>-0.140024</td>\n",
       "      <td>-0.507191</td>\n",
       "      <td>-0.590535</td>\n",
       "      <td>-0.450092</td>\n",
       "      <td>0.453185</td>\n",
       "      <td>0.466181</td>\n",
       "      <td>0.265032</td>\n",
       "      <td>0.440943</td>\n",
       "    </tr>\n",
       "    <tr>\n",
       "      <th>...</th>\n",
       "      <td>...</td>\n",
       "      <td>...</td>\n",
       "      <td>...</td>\n",
       "      <td>...</td>\n",
       "      <td>...</td>\n",
       "      <td>...</td>\n",
       "      <td>...</td>\n",
       "      <td>...</td>\n",
       "      <td>...</td>\n",
       "      <td>...</td>\n",
       "      <td>...</td>\n",
       "      <td>...</td>\n",
       "      <td>...</td>\n",
       "      <td>...</td>\n",
       "      <td>...</td>\n",
       "      <td>...</td>\n",
       "      <td>...</td>\n",
       "      <td>...</td>\n",
       "      <td>...</td>\n",
       "      <td>...</td>\n",
       "      <td>...</td>\n",
       "    </tr>\n",
       "    <tr>\n",
       "      <th>421</th>\n",
       "      <td>305</td>\n",
       "      <td>[tensor(0), tensor(1), tensor(1), tensor(1), t...</td>\n",
       "      <td>[tensor(0), tensor(1), tensor(1), tensor(1), t...</td>\n",
       "      <td>[tensor(1), tensor(1), tensor(1), tensor(1), t...</td>\n",
       "      <td>[tensor(10000., dtype=torch.float64), tensor(2...</td>\n",
       "      <td>-0.761613</td>\n",
       "      <td>-0.920988</td>\n",
       "      <td>0.187432</td>\n",
       "      <td>-0.849231</td>\n",
       "      <td>0.609800</td>\n",
       "      <td>...</td>\n",
       "      <td>0.540884</td>\n",
       "      <td>-0.168785</td>\n",
       "      <td>-0.407333</td>\n",
       "      <td>-0.497696</td>\n",
       "      <td>-0.501658</td>\n",
       "      <td>-0.673201</td>\n",
       "      <td>0.669037</td>\n",
       "      <td>0.713175</td>\n",
       "      <td>0.855634</td>\n",
       "      <td>0.267353</td>\n",
       "    </tr>\n",
       "    <tr>\n",
       "      <th>422</th>\n",
       "      <td>1932</td>\n",
       "      <td>[tensor(0), tensor(9), tensor(9), tensor(12), ...</td>\n",
       "      <td>[tensor(0), tensor(9), tensor(9), tensor(12), ...</td>\n",
       "      <td>[tensor(1), tensor(1), tensor(1), tensor(1), t...</td>\n",
       "      <td>[tensor(50000., dtype=torch.float64), tensor(5...</td>\n",
       "      <td>0.038503</td>\n",
       "      <td>-0.191053</td>\n",
       "      <td>0.104179</td>\n",
       "      <td>0.152739</td>\n",
       "      <td>0.160318</td>\n",
       "      <td>...</td>\n",
       "      <td>0.256203</td>\n",
       "      <td>0.085110</td>\n",
       "      <td>-0.132371</td>\n",
       "      <td>-0.233699</td>\n",
       "      <td>-0.243126</td>\n",
       "      <td>-0.075185</td>\n",
       "      <td>0.389308</td>\n",
       "      <td>0.166987</td>\n",
       "      <td>0.078607</td>\n",
       "      <td>0.210151</td>\n",
       "    </tr>\n",
       "    <tr>\n",
       "      <th>423</th>\n",
       "      <td>613</td>\n",
       "      <td>[tensor(0), tensor(0), tensor(0), tensor(0), t...</td>\n",
       "      <td>[tensor(0), tensor(0), tensor(0), tensor(0), t...</td>\n",
       "      <td>[tensor(1), tensor(1), tensor(1), tensor(1), t...</td>\n",
       "      <td>[tensor(3400000., dtype=torch.float64), tensor...</td>\n",
       "      <td>-0.638051</td>\n",
       "      <td>-0.541707</td>\n",
       "      <td>0.186781</td>\n",
       "      <td>-0.740925</td>\n",
       "      <td>0.413715</td>\n",
       "      <td>...</td>\n",
       "      <td>0.371316</td>\n",
       "      <td>0.091764</td>\n",
       "      <td>-0.160421</td>\n",
       "      <td>-0.536088</td>\n",
       "      <td>-0.454903</td>\n",
       "      <td>-0.565677</td>\n",
       "      <td>0.330768</td>\n",
       "      <td>0.547510</td>\n",
       "      <td>0.614076</td>\n",
       "      <td>0.481095</td>\n",
       "    </tr>\n",
       "    <tr>\n",
       "      <th>424</th>\n",
       "      <td>2112</td>\n",
       "      <td>[tensor(0), tensor(0), tensor(0), tensor(1), t...</td>\n",
       "      <td>[tensor(0), tensor(0), tensor(0), tensor(1), t...</td>\n",
       "      <td>[tensor(1), tensor(1), tensor(1), tensor(1), t...</td>\n",
       "      <td>[tensor(600000., dtype=torch.float64), tensor(...</td>\n",
       "      <td>-0.450044</td>\n",
       "      <td>-0.649005</td>\n",
       "      <td>0.143558</td>\n",
       "      <td>0.099293</td>\n",
       "      <td>0.337120</td>\n",
       "      <td>...</td>\n",
       "      <td>0.266492</td>\n",
       "      <td>0.199294</td>\n",
       "      <td>-0.141370</td>\n",
       "      <td>-0.483973</td>\n",
       "      <td>-0.347070</td>\n",
       "      <td>-0.539830</td>\n",
       "      <td>0.258733</td>\n",
       "      <td>0.491339</td>\n",
       "      <td>0.357393</td>\n",
       "      <td>0.373163</td>\n",
       "    </tr>\n",
       "    <tr>\n",
       "      <th>425</th>\n",
       "      <td>192</td>\n",
       "      <td>[tensor(0), tensor(2), tensor(2), tensor(5), t...</td>\n",
       "      <td>[tensor(0), tensor(2), tensor(2), tensor(5), t...</td>\n",
       "      <td>[tensor(1), tensor(1), tensor(1), tensor(1), t...</td>\n",
       "      <td>[tensor(50000., dtype=torch.float64), tensor(2...</td>\n",
       "      <td>-0.286301</td>\n",
       "      <td>-0.620264</td>\n",
       "      <td>0.014078</td>\n",
       "      <td>0.325535</td>\n",
       "      <td>0.640387</td>\n",
       "      <td>...</td>\n",
       "      <td>0.199313</td>\n",
       "      <td>0.221094</td>\n",
       "      <td>-0.145194</td>\n",
       "      <td>-0.513688</td>\n",
       "      <td>-0.300383</td>\n",
       "      <td>-0.262741</td>\n",
       "      <td>0.262186</td>\n",
       "      <td>0.323593</td>\n",
       "      <td>0.196624</td>\n",
       "      <td>0.245892</td>\n",
       "    </tr>\n",
       "  </tbody>\n",
       "</table>\n",
       "<p>2130 rows × 261 columns</p>\n",
       "</div>"
      ],
      "text/plain": [
       "     user_idc                                         time_delta  \\\n",
       "0         668  [tensor(0), tensor(1), tensor(1), tensor(1), t...   \n",
       "1         480  [tensor(0), tensor(0), tensor(1), tensor(1), t...   \n",
       "2        1460  [tensor(0), tensor(0), tensor(1), tensor(10), ...   \n",
       "3        1202  [tensor(0), tensor(0), tensor(184), tensor(184...   \n",
       "4        1623  [tensor(0), tensor(0), tensor(0), tensor(1), t...   \n",
       "..        ...                                                ...   \n",
       "421       305  [tensor(0), tensor(1), tensor(1), tensor(1), t...   \n",
       "422      1932  [tensor(0), tensor(9), tensor(9), tensor(12), ...   \n",
       "423       613  [tensor(0), tensor(0), tensor(0), tensor(0), t...   \n",
       "424      2112  [tensor(0), tensor(0), tensor(0), tensor(1), t...   \n",
       "425       192  [tensor(0), tensor(2), tensor(2), tensor(5), t...   \n",
       "\n",
       "                                            event_time  \\\n",
       "0    [tensor(0), tensor(1), tensor(1), tensor(1), t...   \n",
       "1    [tensor(0), tensor(0), tensor(1), tensor(1), t...   \n",
       "2    [tensor(0), tensor(0), tensor(1), tensor(10), ...   \n",
       "3    [tensor(0), tensor(0), tensor(184), tensor(184...   \n",
       "4    [tensor(0), tensor(0), tensor(0), tensor(1), t...   \n",
       "..                                                 ...   \n",
       "421  [tensor(0), tensor(1), tensor(1), tensor(1), t...   \n",
       "422  [tensor(0), tensor(9), tensor(9), tensor(12), ...   \n",
       "423  [tensor(0), tensor(0), tensor(0), tensor(0), t...   \n",
       "424  [tensor(0), tensor(0), tensor(0), tensor(1), t...   \n",
       "425  [tensor(0), tensor(2), tensor(2), tensor(5), t...   \n",
       "\n",
       "                                           txn_type_id  \\\n",
       "0    [tensor(1), tensor(1), tensor(1), tensor(1), t...   \n",
       "1    [tensor(1), tensor(2), tensor(2), tensor(2), t...   \n",
       "2    [tensor(1), tensor(2), tensor(1), tensor(1), t...   \n",
       "3    [tensor(1), tensor(1), tensor(1), tensor(1), t...   \n",
       "4    [tensor(1), tensor(1), tensor(1), tensor(1), t...   \n",
       "..                                                 ...   \n",
       "421  [tensor(1), tensor(1), tensor(1), tensor(1), t...   \n",
       "422  [tensor(1), tensor(1), tensor(1), tensor(1), t...   \n",
       "423  [tensor(1), tensor(1), tensor(1), tensor(1), t...   \n",
       "424  [tensor(1), tensor(1), tensor(1), tensor(1), t...   \n",
       "425  [tensor(1), tensor(1), tensor(1), tensor(1), t...   \n",
       "\n",
       "                                                amount       E_0       E_1  \\\n",
       "0    [tensor(15000., dtype=torch.float64), tensor(5... -0.593855 -0.611140   \n",
       "1    [tensor(50000., dtype=torch.float64), tensor(1... -0.578030 -0.320370   \n",
       "2    [tensor(50000., dtype=torch.float64), tensor(5... -0.129558 -0.307605   \n",
       "3    [tensor(10000., dtype=torch.float64), tensor(1... -0.535776 -0.655172   \n",
       "4    [tensor(85000., dtype=torch.float64), tensor(2... -0.521688 -0.491137   \n",
       "..                                                 ...       ...       ...   \n",
       "421  [tensor(10000., dtype=torch.float64), tensor(2... -0.761613 -0.920988   \n",
       "422  [tensor(50000., dtype=torch.float64), tensor(5...  0.038503 -0.191053   \n",
       "423  [tensor(3400000., dtype=torch.float64), tensor... -0.638051 -0.541707   \n",
       "424  [tensor(600000., dtype=torch.float64), tensor(... -0.450044 -0.649005   \n",
       "425  [tensor(50000., dtype=torch.float64), tensor(2... -0.286301 -0.620264   \n",
       "\n",
       "          E_2       E_3       E_4  ...     E_246     E_247     E_248  \\\n",
       "0    0.082734 -0.575660  0.443878  ...  0.272618  0.117945 -0.156992   \n",
       "1    0.220013 -0.573731  0.481297  ...  0.540126  0.167377 -0.140792   \n",
       "2    0.023770  0.623530  0.254055  ...  0.207583  0.231245 -0.143382   \n",
       "3    0.194007 -0.572738  0.292364  ...  0.301539  0.044450 -0.159223   \n",
       "4    0.328950 -0.021091  0.408385  ...  0.242539  0.182946 -0.140024   \n",
       "..        ...       ...       ...  ...       ...       ...       ...   \n",
       "421  0.187432 -0.849231  0.609800  ...  0.540884 -0.168785 -0.407333   \n",
       "422  0.104179  0.152739  0.160318  ...  0.256203  0.085110 -0.132371   \n",
       "423  0.186781 -0.740925  0.413715  ...  0.371316  0.091764 -0.160421   \n",
       "424  0.143558  0.099293  0.337120  ...  0.266492  0.199294 -0.141370   \n",
       "425  0.014078  0.325535  0.640387  ...  0.199313  0.221094 -0.145194   \n",
       "\n",
       "        E_249     E_250     E_251     E_252     E_253     E_254     E_255  \n",
       "0   -0.448515 -0.293131 -0.587978  0.284134  0.557590  0.584917  0.456724  \n",
       "1   -0.340777 -0.352708 -0.597115  0.285930  0.501406  0.328263  0.538547  \n",
       "2   -0.382425 -0.209294 -0.199607  0.301591  0.022999  0.244299  0.255303  \n",
       "3   -0.443074 -0.397367 -0.515326  0.338897  0.550806  0.728947  0.359654  \n",
       "4   -0.507191 -0.590535 -0.450092  0.453185  0.466181  0.265032  0.440943  \n",
       "..        ...       ...       ...       ...       ...       ...       ...  \n",
       "421 -0.497696 -0.501658 -0.673201  0.669037  0.713175  0.855634  0.267353  \n",
       "422 -0.233699 -0.243126 -0.075185  0.389308  0.166987  0.078607  0.210151  \n",
       "423 -0.536088 -0.454903 -0.565677  0.330768  0.547510  0.614076  0.481095  \n",
       "424 -0.483973 -0.347070 -0.539830  0.258733  0.491339  0.357393  0.373163  \n",
       "425 -0.513688 -0.300383 -0.262741  0.262186  0.323593  0.196624  0.245892  \n",
       "\n",
       "[2130 rows x 261 columns]"
      ]
     },
     "execution_count": 65,
     "metadata": {},
     "output_type": "execute_result"
    }
   ],
   "source": [
    "out_concat"
   ]
  },
  {
   "cell_type": "code",
   "execution_count": null,
   "id": "6ce3e21d",
   "metadata": {
    "ExecuteTime": {
     "end_time": "2023-08-12T05:01:54.412892Z",
     "start_time": "2023-08-12T05:01:54.286922Z"
    },
    "id": "6ce3e21d",
    "outputId": "f700cda9-f9bd-4aff-d4ba-02961f88785c"
   },
   "outputs": [
    {
     "data": {
      "text/plain": [
       "{'81111111185': 0,\n",
       " '8115934524': 1,\n",
       " '8116140707': 2,\n",
       " '811666821': 3,\n",
       " '811667567': 4,\n",
       " '8117061298': 5,\n",
       " '811710499': 6,\n",
       " '8117174283': 7,\n",
       " '811784808': 8,\n",
       " '8118622401': 9,\n",
       " '811899969': 10,\n",
       " '8119341213': 11,\n",
       " '81210010304': 12,\n",
       " '81210714400': 13,\n",
       " '81210771997': 14,\n",
       " '81210989176': 15,\n",
       " '81211779160': 16,\n",
       " '81211793467': 17,\n",
       " '81211939597': 18,\n",
       " '81211982439': 19,\n",
       " '81212117644': 20,\n",
       " '81212426147': 21,\n",
       " '81212438958': 22,\n",
       " '81212451160': 23,\n",
       " '81212568203': 24,\n",
       " '81212737457': 25,\n",
       " '81212783390': 26,\n",
       " '81212810442': 27,\n",
       " '81212961189': 28,\n",
       " '81213094844': 29,\n",
       " '81213925689': 30,\n",
       " '81213947127': 31,\n",
       " '81214084707': 32,\n",
       " '81214502668': 33,\n",
       " '81214581333': 34,\n",
       " '81214897636': 35,\n",
       " '81214981428': 36,\n",
       " '81215042264': 37,\n",
       " '81215125586': 38,\n",
       " '81216171125': 39,\n",
       " '81216225556': 40,\n",
       " '81216290312': 41,\n",
       " '81218060127': 42,\n",
       " '81218133838': 43,\n",
       " '8121817273': 44,\n",
       " '81218184040': 45,\n",
       " '81218523666': 46,\n",
       " '81218800090': 47,\n",
       " '81219115343': 48,\n",
       " '81219575758': 49,\n",
       " '81219618992': 50,\n",
       " '81219982196': 51,\n",
       " '81220008025': 52,\n",
       " '81220015886': 53,\n",
       " '81220246545': 54,\n",
       " '81220566552': 55,\n",
       " '81220638170': 56,\n",
       " '81220666696': 57,\n",
       " '81220727700': 58,\n",
       " '81221516309': 59,\n",
       " '8122158789': 60,\n",
       " '81221793910': 61,\n",
       " '81221853072': 62,\n",
       " '81221893867': 63,\n",
       " '81221926833': 64,\n",
       " '8122221847': 65,\n",
       " '81222363162': 66,\n",
       " '81222565540': 67,\n",
       " '81222568311': 68,\n",
       " '81222644700': 69,\n",
       " '81222789479': 70,\n",
       " '81223131315': 71,\n",
       " '81223141919': 72,\n",
       " '81223183618': 73,\n",
       " '81224300345': 74,\n",
       " '81225082172': 75,\n",
       " '81225113284': 76,\n",
       " '81225612079': 77,\n",
       " '81226022216': 78,\n",
       " '81226126111': 79,\n",
       " '81227256677': 80,\n",
       " '81227496415': 81,\n",
       " '81227506911': 82,\n",
       " '81228801987': 83,\n",
       " '8122992012': 84,\n",
       " '81230004285': 85,\n",
       " '81230043559': 86,\n",
       " '81230178999': 87,\n",
       " '81230305558': 88,\n",
       " '81230407253': 89,\n",
       " '81230488238': 90,\n",
       " '81230572210': 91,\n",
       " '81230972275': 92,\n",
       " '81231286124': 93,\n",
       " '81232011968': 94,\n",
       " '8123274382': 95,\n",
       " '81232943295': 96,\n",
       " '81233273862': 97,\n",
       " '81234549872': 98,\n",
       " '81235258759': 99,\n",
       " '81235795339': 100,\n",
       " '81239417227': 101,\n",
       " '81243923368': 102,\n",
       " '81244122566': 103,\n",
       " '81248019494': 104,\n",
       " '81248067151': 105,\n",
       " '81249324497': 106,\n",
       " '81249613357': 107,\n",
       " '81250055984': 108,\n",
       " '81250473354': 109,\n",
       " '81250637919': 110,\n",
       " '81252255538': 111,\n",
       " '81252461823': 112,\n",
       " '81252515451': 113,\n",
       " '81252783252': 114,\n",
       " '81253764658': 115,\n",
       " '81254454087': 116,\n",
       " '81254972797': 117,\n",
       " '81255205971': 118,\n",
       " '81255213699': 119,\n",
       " '81255234567': 120,\n",
       " '81256206161': 121,\n",
       " '81256456607': 122,\n",
       " '81256641109': 123,\n",
       " '81257722010': 124,\n",
       " '81258379199': 125,\n",
       " '81258446955': 126,\n",
       " '81259559532': 127,\n",
       " '81259939609': 128,\n",
       " '81260066004': 129,\n",
       " '8126011191': 130,\n",
       " '81260347567': 131,\n",
       " '81261261557': 132,\n",
       " '81261302561': 133,\n",
       " '81261425104': 134,\n",
       " '81261652444': 135,\n",
       " '81261931800': 136,\n",
       " '81262934519': 137,\n",
       " '81263057589': 138,\n",
       " '81263630853': 139,\n",
       " '81263965243': 140,\n",
       " '81264055118': 141,\n",
       " '81264272746': 142,\n",
       " '81266372345': 143,\n",
       " '81266521111': 144,\n",
       " '81267345133': 145,\n",
       " '81267667065': 146,\n",
       " '8126789333': 147,\n",
       " '8126811734': 148,\n",
       " '81268358545': 149,\n",
       " '81268540411': 150,\n",
       " '81268556807': 151,\n",
       " '81268786945': 152,\n",
       " '81268801116': 153,\n",
       " '81268977272': 154,\n",
       " '81269177465': 155,\n",
       " '81269272345': 156,\n",
       " '81269499784': 157,\n",
       " '81269664229': 158,\n",
       " '81269948156': 159,\n",
       " '81270010645': 160,\n",
       " '81270428889': 161,\n",
       " '81270518051': 162,\n",
       " '81270539154': 163,\n",
       " '81270551228': 164,\n",
       " '81270775643': 165,\n",
       " '81271041904': 166,\n",
       " '81271162264': 167,\n",
       " '81271221127': 168,\n",
       " '81272097219': 169,\n",
       " '81272198087': 170,\n",
       " '81272502591': 171,\n",
       " '81272502850': 172,\n",
       " '8127252677': 173,\n",
       " '81272877508': 174,\n",
       " '81273094419': 175,\n",
       " '81273718544': 176,\n",
       " '81274373247': 177,\n",
       " '81274722683': 178,\n",
       " '81274748497': 179,\n",
       " '81275030195': 180,\n",
       " '8127561111': 181,\n",
       " '81275862136': 182,\n",
       " '81275938432': 183,\n",
       " '81275957794': 184,\n",
       " '81276231203': 185,\n",
       " '81276310530': 186,\n",
       " '81277125755': 187,\n",
       " '81277207858': 188,\n",
       " '81277597334': 189,\n",
       " '81277626122': 190,\n",
       " '81277950488': 191,\n",
       " '81277970293': 192,\n",
       " '81278071902': 193,\n",
       " '81278167243': 194,\n",
       " '81278315373': 195,\n",
       " '81278353366': 196,\n",
       " '81278535050': 197,\n",
       " '81278707770': 198,\n",
       " '81278827868': 199,\n",
       " '81279151518': 200,\n",
       " '8127928560': 201,\n",
       " '81279878474': 202,\n",
       " '81280114797': 203,\n",
       " '8128032580': 204,\n",
       " '8128035854': 205,\n",
       " '81280363558': 206,\n",
       " '81280506606': 207,\n",
       " '81281072204': 208,\n",
       " '81281261263': 209,\n",
       " '81281372013': 210,\n",
       " '81281717002': 211,\n",
       " '81281808770': 212,\n",
       " '81282370762': 213,\n",
       " '81282633180': 214,\n",
       " '81282666848': 215,\n",
       " '81282746650': 216,\n",
       " '81282792105': 217,\n",
       " '81283090389': 218,\n",
       " '81283350705': 219,\n",
       " '81283586685': 220,\n",
       " '81283733339': 221,\n",
       " '81283837861': 222,\n",
       " '8128421068': 223,\n",
       " '81284658828': 224,\n",
       " '81284688676': 225,\n",
       " '81284777619': 226,\n",
       " '81284949060': 227,\n",
       " '81285025868': 228,\n",
       " '81285669168': 229,\n",
       " '81285909166': 230,\n",
       " '81286404736': 231,\n",
       " '81286796808': 232,\n",
       " '81287242798': 233,\n",
       " '81287783696': 234,\n",
       " '81287994637': 235,\n",
       " '81288120002': 236,\n",
       " '81288360722': 237,\n",
       " '81288979764': 238,\n",
       " '81289252150': 239,\n",
       " '81289535040': 240,\n",
       " '81289556293': 241,\n",
       " '81289827454': 242,\n",
       " '81289965139': 243,\n",
       " '81290054345': 244,\n",
       " '81290158341': 245,\n",
       " '81290281396': 246,\n",
       " '81290349961': 247,\n",
       " '81290758015': 248,\n",
       " '81291998466': 249,\n",
       " '81292373451': 250,\n",
       " '81292776638': 251,\n",
       " '81293446064': 252,\n",
       " '81293446097': 253,\n",
       " '81293800756': 254,\n",
       " '81294074864': 255,\n",
       " '81294082263': 256,\n",
       " '81294531149': 257,\n",
       " '8129551007': 258,\n",
       " '81295534779': 259,\n",
       " '81295628881': 260,\n",
       " '81295825806': 261,\n",
       " '81296132323': 262,\n",
       " '81296141022': 263,\n",
       " '81296347092': 264,\n",
       " '81296716400': 265,\n",
       " '81297141603': 266,\n",
       " '81297811176': 267,\n",
       " '81298093660': 268,\n",
       " '81298116915': 269,\n",
       " '81298239626': 270,\n",
       " '81298301384': 271,\n",
       " '81298781445': 272,\n",
       " '81299132773': 273,\n",
       " '81310222380': 274,\n",
       " '81310723851': 275,\n",
       " '81310791101': 276,\n",
       " '81311124412': 277,\n",
       " '81311146444': 278,\n",
       " '81311370109': 279,\n",
       " '81311422089': 280,\n",
       " '81311503777': 281,\n",
       " '81311551955': 282,\n",
       " '81311663017': 283,\n",
       " '81311665758': 284,\n",
       " '81311731608': 285,\n",
       " '81312000965': 286,\n",
       " '81312043344': 287,\n",
       " '81312189056': 288,\n",
       " '81312432459': 289,\n",
       " '81312476161': 290,\n",
       " '81312657710': 291,\n",
       " '81312806561': 292,\n",
       " '81312820449': 293,\n",
       " '81312885166': 294,\n",
       " '81313001581': 295,\n",
       " '81313247738': 296,\n",
       " '81313339923': 297,\n",
       " '81313397607': 298,\n",
       " '81313442317': 299,\n",
       " '81314150784': 300,\n",
       " '81314159962': 301,\n",
       " '81314308404': 302,\n",
       " '81314338920': 303,\n",
       " '81314398101': 304,\n",
       " '81315152699': 305,\n",
       " '81315167897': 306,\n",
       " '81315440333': 307,\n",
       " '81315600623': 308,\n",
       " '81315967778': 309,\n",
       " '81316125525': 310,\n",
       " '81316613890': 311,\n",
       " '81316685481': 312,\n",
       " '81317410451': 313,\n",
       " '81317719951': 314,\n",
       " '81317834577': 315,\n",
       " '81318359316': 316,\n",
       " '81318376929': 317,\n",
       " '81318588997': 318,\n",
       " '81318934896': 319,\n",
       " '81319005959': 320,\n",
       " '81319569989': 321,\n",
       " '81320000976': 322,\n",
       " '81320257293': 323,\n",
       " '81320652221': 324,\n",
       " '81321497386': 325,\n",
       " '81322058432': 326,\n",
       " '81322623499': 327,\n",
       " '81324436356': 328,\n",
       " '81324549889': 329,\n",
       " '81324551017': 330,\n",
       " '81326113909': 331,\n",
       " '81326254999': 332,\n",
       " '81326563480': 333,\n",
       " '81326648081': 334,\n",
       " '81327018066': 335,\n",
       " '81327699997': 336,\n",
       " '81329134967': 337,\n",
       " '81329666412': 338,\n",
       " '81329731861': 339,\n",
       " '81329904444': 340,\n",
       " '81330032954': 341,\n",
       " '81330080488': 342,\n",
       " '81330109021': 343,\n",
       " '81330791845': 344,\n",
       " '81331164414': 345,\n",
       " '81331334984': 346,\n",
       " '81332008697': 347,\n",
       " '81332531150': 348,\n",
       " '81332535055': 349,\n",
       " '81332786559': 350,\n",
       " '81333239350': 351,\n",
       " '81333297282': 352,\n",
       " '81335224183': 353,\n",
       " '81335575906': 354,\n",
       " '81335728592': 355,\n",
       " '81335950977': 356,\n",
       " '81336064585': 357,\n",
       " '81336873153': 358,\n",
       " '81337304295': 359,\n",
       " '81338805558': 360,\n",
       " '81339316210': 361,\n",
       " '81343066222': 362,\n",
       " '81344347941': 363,\n",
       " '81345321321': 364,\n",
       " '81346386161': 365,\n",
       " '81347084599': 366,\n",
       " '81350504707': 367,\n",
       " '81353005501': 368,\n",
       " '81353373458': 369,\n",
       " '81355256333': 370,\n",
       " '81356716252': 371,\n",
       " '81356775630': 372,\n",
       " '81357345710': 373,\n",
       " '81358147667': 374,\n",
       " '81358850051': 375,\n",
       " '81359017248': 376,\n",
       " '81360760009': 377,\n",
       " '81360774161': 378,\n",
       " '81361049946': 379,\n",
       " '81361492425': 380,\n",
       " '81361528342': 381,\n",
       " '81362042719': 382,\n",
       " '81362158077': 383,\n",
       " '81362180351': 384,\n",
       " '81362850557': 385,\n",
       " '81362993753': 386,\n",
       " '81363011441': 387,\n",
       " '81363116446': 388,\n",
       " '81363907400': 389,\n",
       " '81363955999': 390,\n",
       " '81364029075': 391,\n",
       " '81365208427': 392,\n",
       " '81365486087': 393,\n",
       " '81365706482': 394,\n",
       " '81366211064': 395,\n",
       " '81366391006': 396,\n",
       " '81366652434': 397,\n",
       " '81366899664': 398,\n",
       " '81367527605': 399,\n",
       " '81367573707': 400,\n",
       " '81368974688': 401,\n",
       " '81369400042': 402,\n",
       " '81369453332': 403,\n",
       " '81370086061': 404,\n",
       " '81370114147': 405,\n",
       " '81370538143': 406,\n",
       " '81370913575': 407,\n",
       " '81371174817': 408,\n",
       " '81371415184': 409,\n",
       " '81372212629': 410,\n",
       " '81372920505': 411,\n",
       " '81373217639': 412,\n",
       " '81373261239': 413,\n",
       " '81373990858': 414,\n",
       " '81374076987': 415,\n",
       " '81374547844': 416,\n",
       " '81374944445': 417,\n",
       " '81375492117': 418,\n",
       " '81375883080': 419,\n",
       " '81375903313': 420,\n",
       " '81376199253': 421,\n",
       " '81376510803': 422,\n",
       " '81377742610': 423,\n",
       " '81377755176': 424,\n",
       " '81378251896': 425,\n",
       " '81379738988': 426,\n",
       " '81379840819': 427,\n",
       " '81380331266': 428,\n",
       " '81380384563': 429,\n",
       " '81380503937': 430,\n",
       " '81380744045': 431,\n",
       " '81380780008': 432,\n",
       " '81380958406': 433,\n",
       " '81380959837': 434,\n",
       " '81381092266': 435,\n",
       " '81381126587': 436,\n",
       " '81381400966': 437,\n",
       " '81381479831': 438,\n",
       " '81381676588': 439,\n",
       " '81381688588': 440,\n",
       " '81381786414': 441,\n",
       " '81381996806': 442,\n",
       " '81382068261': 443,\n",
       " '81382225972': 444,\n",
       " '81382399006': 445,\n",
       " '81382480799': 446,\n",
       " '81382943560': 447,\n",
       " '81383455885': 448,\n",
       " '81383808958': 449,\n",
       " '81384453265': 450,\n",
       " '81384686518': 451,\n",
       " '81384749004': 452,\n",
       " '81385353799': 453,\n",
       " '81385683209': 454,\n",
       " '81387342227': 455,\n",
       " '81387478123': 456,\n",
       " '81388122816': 457,\n",
       " '81388261808': 458,\n",
       " '81388455200': 459,\n",
       " '81388537738': 460,\n",
       " '81388897006': 461,\n",
       " '81389794099': 462,\n",
       " '81392251958': 463,\n",
       " '81392378370': 464,\n",
       " '81392664819': 465,\n",
       " '81393752203': 466,\n",
       " '81393932267': 467,\n",
       " '81394533699': 468,\n",
       " '81394555577': 469,\n",
       " '81394567460': 470,\n",
       " '81394702241': 471,\n",
       " '81395207575': 472,\n",
       " '81395506782': 473,\n",
       " '81395582353': 474,\n",
       " '81395690807': 475,\n",
       " '81396295868': 476,\n",
       " '81396544402': 477,\n",
       " '81396961663': 478,\n",
       " '81397607416': 479,\n",
       " '81397800797': 480,\n",
       " '81397923339': 481,\n",
       " '81398004445': 482,\n",
       " '81398068076': 483,\n",
       " '81398068606': 484,\n",
       " '81398279527': 485,\n",
       " '81413334944': 486,\n",
       " '81456094177': 487,\n",
       " '81461238551': 488,\n",
       " '81466784808': 489,\n",
       " '81511191110': 490,\n",
       " '81511877997': 491,\n",
       " '81514274501': 492,\n",
       " '81514296063': 493,\n",
       " '81514416006': 494,\n",
       " '81515373818': 495,\n",
       " '81515526322': 496,\n",
       " '81517724508': 497,\n",
       " '81517788252': 498,\n",
       " '81523612425': 499,\n",
       " '81528553393': 500,\n",
       " '81532346846': 501,\n",
       " '81539423008': 502,\n",
       " '8154042095': 503,\n",
       " '81542526992': 504,\n",
       " '81545521206': 505,\n",
       " '81546466076': 506,\n",
       " '81548201735': 507,\n",
       " '81548966390': 508,\n",
       " '81553381536': 509,\n",
       " '81554085512': 510,\n",
       " '81563157787': 511,\n",
       " '81563318486': 512,\n",
       " '81563470722': 513,\n",
       " '81563944447': 514,\n",
       " '81563949792': 515,\n",
       " '81568361110': 516,\n",
       " '81568450838': 517,\n",
       " '81573065496': 518,\n",
       " '81573167366': 519,\n",
       " '81573313628': 520,\n",
       " '81573781230': 521,\n",
       " '81574297697': 522,\n",
       " '81578116359': 523,\n",
       " '81578911911': 524,\n",
       " '81584011409': 525,\n",
       " '81584777776': 526,\n",
       " '8158937565': 527,\n",
       " '8159599909': 528,\n",
       " '8159613291': 529,\n",
       " '81617121427': 530,\n",
       " '816229087': 531,\n",
       " '81632391198': 532,\n",
       " '81646058132': 533,\n",
       " '816500877': 534,\n",
       " '816608487': 535,\n",
       " '816609125': 536,\n",
       " '816646293': 537,\n",
       " '816648387': 538,\n",
       " '816687677': 539,\n",
       " '816992506': 540,\n",
       " '81703290091': 541,\n",
       " '81703919772': 542,\n",
       " '8170404132': 543,\n",
       " '8170817146': 544,\n",
       " '817131031': 545,\n",
       " '81717290267': 546,\n",
       " '817260760': 547,\n",
       " '817617060': 548,\n",
       " '8176365627': 549,\n",
       " '81802356280': 550,\n",
       " '81804168077': 551,\n",
       " '81804222851': 552,\n",
       " '81806001569': 553,\n",
       " '81808080233': 554,\n",
       " '81808793587': 555,\n",
       " '81809009017': 556,\n",
       " '81809726393': 557,\n",
       " '81809777781': 558,\n",
       " '81809864414': 559,\n",
       " '818345000': 560,\n",
       " '818346856': 561,\n",
       " '818511980': 562,\n",
       " '818625062': 563,\n",
       " '81906460777': 564,\n",
       " '81908248643': 565,\n",
       " '81909951110': 566,\n",
       " '81910470647': 567,\n",
       " '81910475370': 568,\n",
       " '81910576650': 569,\n",
       " '81910577748': 570,\n",
       " '81911122000': 571,\n",
       " '81912016069': 572,\n",
       " '81913777175': 573,\n",
       " '81918295950': 574,\n",
       " '81929121855': 575,\n",
       " '81931636538': 576,\n",
       " '81932351222': 577,\n",
       " '81932492755': 578,\n",
       " '81932679643': 579,\n",
       " '81935194800': 580,\n",
       " '81936275122': 581,\n",
       " '81937322456': 582,\n",
       " '81946500777': 583,\n",
       " '81946837035': 584,\n",
       " '81946961644': 585,\n",
       " '81959008579': 586,\n",
       " '81959390460': 587,\n",
       " '81990973399': 588,\n",
       " '81999211112': 589,\n",
       " '81999980202': 590,\n",
       " '82110507936': 591,\n",
       " '82110699366': 592,\n",
       " '82111046328': 593,\n",
       " '82111111787': 594,\n",
       " '82111255789': 595,\n",
       " '82111311243': 596,\n",
       " '82111589990': 597,\n",
       " '82111614389': 598,\n",
       " '82111875432': 599,\n",
       " '82112465650': 600,\n",
       " '82112822400': 601,\n",
       " '82113138375': 602,\n",
       " '82113344041': 603,\n",
       " '82113937796': 604,\n",
       " '82114364440': 605,\n",
       " '82114375340': 606,\n",
       " '82114409800': 607,\n",
       " '82114831504': 608,\n",
       " '82115099976': 609,\n",
       " '82115957546': 610,\n",
       " '82116758310': 611,\n",
       " '82117468924': 612,\n",
       " '82118511446': 613,\n",
       " '82119099088': 614,\n",
       " '82119173232': 615,\n",
       " '82119201818': 616,\n",
       " '82119273699': 617,\n",
       " '82119465510': 618,\n",
       " '82119499783': 619,\n",
       " '82119584284': 620,\n",
       " '82120281768': 621,\n",
       " '82121115352': 622,\n",
       " '82121145078': 623,\n",
       " '82121302653': 624,\n",
       " '82121798205': 625,\n",
       " '82121916970': 626,\n",
       " '82122144779': 627,\n",
       " '82122412515': 628,\n",
       " '82122712107': 629,\n",
       " '82122790790': 630,\n",
       " '82123593501': 631,\n",
       " '82123853700': 632,\n",
       " '82124020040': 633,\n",
       " '82124116561': 634,\n",
       " '82124267862': 635,\n",
       " '82126269950': 636,\n",
       " '82126899658': 637,\n",
       " '82127107918': 638,\n",
       " '82127145246': 639,\n",
       " '82127408888': 640,\n",
       " '82127777746': 641,\n",
       " '82127977391': 642,\n",
       " '82128616392': 643,\n",
       " '82129148438': 644,\n",
       " '82130004212': 645,\n",
       " '82130757200': 646,\n",
       " '82130930099': 647,\n",
       " '82131007007': 648,\n",
       " '82132244015': 649,\n",
       " '82132332230': 650,\n",
       " '82132586429': 651,\n",
       " '82132641280': 652,\n",
       " '82133082479': 653,\n",
       " '82133307028': 654,\n",
       " '82133317779': 655,\n",
       " '82134200300': 656,\n",
       " '82134258703': 657,\n",
       " '82134863576': 658,\n",
       " '82135130042': 659,\n",
       " '82135405350': 660,\n",
       " '82136110911': 661,\n",
       " '82136384863': 662,\n",
       " '82136887687': 663,\n",
       " '82137060226': 664,\n",
       " '82137444888': 665,\n",
       " '82137534151': 666,\n",
       " '82137577168': 667,\n",
       " '82137674122': 668,\n",
       " '82137742922': 669,\n",
       " '82138012275': 670,\n",
       " '82138382585': 671,\n",
       " '82138842999': 672,\n",
       " '82139042313': 673,\n",
       " '82139298797': 674,\n",
       " '82139742098': 675,\n",
       " '82140001332': 676,\n",
       " '82140260764': 677,\n",
       " '82140918530': 678,\n",
       " '82141323709': 679,\n",
       " '82142173371': 680,\n",
       " '82142363959': 681,\n",
       " '82143247867': 682,\n",
       " '82143340241': 683,\n",
       " '82145481214': 684,\n",
       " '82146494542': 685,\n",
       " '82148016472': 686,\n",
       " '82149397879': 687,\n",
       " '82152589948': 688,\n",
       " '82152724912': 689,\n",
       " '82153384669': 690,\n",
       " '82153493635': 691,\n",
       " '82153903505': 692,\n",
       " '82155535829': 693,\n",
       " '82156734433': 694,\n",
       " '82159501994': 695,\n",
       " '82159951508': 696,\n",
       " '82160010006': 697,\n",
       " '82161259991': 698,\n",
       " '82163408778': 699,\n",
       " '82163750096': 700,\n",
       " '82165001102': 701,\n",
       " '82165175528': 702,\n",
       " '82165729836': 703,\n",
       " '82165758118': 704,\n",
       " '82166571922': 705,\n",
       " '82166834129': 706,\n",
       " '82167836364': 707,\n",
       " '82168435995': 708,\n",
       " '82168501234': 709,\n",
       " '82169135520': 710,\n",
       " '82169406330': 711,\n",
       " '82169910481': 712,\n",
       " '82169918803': 713,\n",
       " '82170222145': 714,\n",
       " '82171444420': 715,\n",
       " '82171718184': 716,\n",
       " '82172216023': 717,\n",
       " '82172329845': 718,\n",
       " '82173135123': 719,\n",
       " '82173579893': 720,\n",
       " '82175030870': 721,\n",
       " '82175302598': 722,\n",
       " '82175306320': 723,\n",
       " '82175320353': 724,\n",
       " '82175813866': 725,\n",
       " '82175817184': 726,\n",
       " '82176590043': 727,\n",
       " '82176637001': 728,\n",
       " '82176716766': 729,\n",
       " '82176823282': 730,\n",
       " '82177024476': 731,\n",
       " '82178072356': 732,\n",
       " '82178548139': 733,\n",
       " '82179397282': 734,\n",
       " '82179574016': 735,\n",
       " '82179902440': 736,\n",
       " '82180843025': 737,\n",
       " '82181440525': 738,\n",
       " '82182009686': 739,\n",
       " '82182310303': 740,\n",
       " '82182561998': 741,\n",
       " '82182585960': 742,\n",
       " '82182726666': 743,\n",
       " '82182789634': 744,\n",
       " '82183514765': 745,\n",
       " '82184002479': 746,\n",
       " '82184443585': 747,\n",
       " '82185723140': 748,\n",
       " '82186814980': 749,\n",
       " '82186822009': 750,\n",
       " '82187795240': 751,\n",
       " '82188614869': 752,\n",
       " '82190367471': 753,\n",
       " '82196022797': 754,\n",
       " '82198021114': 755,\n",
       " '82210101017': 756,\n",
       " '82210577189': 757,\n",
       " '82211114449': 758,\n",
       " '82211115653': 759,\n",
       " '82211818648': 760,\n",
       " '82213055609': 761,\n",
       " '82213116633': 762,\n",
       " '82213423313': 763,\n",
       " '82213879839': 764,\n",
       " '82214984243': 765,\n",
       " '82215608388': 766,\n",
       " '82216196702': 767,\n",
       " '82216701115': 768,\n",
       " '82216790555': 769,\n",
       " '82217010984': 770,\n",
       " '82217286801': 771,\n",
       " '82217553238': 772,\n",
       " '82217886824': 773,\n",
       " '82218142356': 774,\n",
       " '82218548446': 775,\n",
       " '82218981253': 776,\n",
       " '82219119954': 777,\n",
       " '82219835759': 778,\n",
       " '82219988881': 779,\n",
       " '82220229455': 780,\n",
       " '82220530645': 781,\n",
       " '82221718873': 782,\n",
       " '82221860203': 783,\n",
       " '82221892409': 784,\n",
       " '82225207008': 785,\n",
       " '82225522722': 786,\n",
       " '82225585442': 787,\n",
       " '82225632606': 788,\n",
       " '82226340665': 789,\n",
       " '82227226696': 790,\n",
       " '82228585827': 791,\n",
       " '82228646588': 792,\n",
       " '82229139526': 793,\n",
       " '82230187525': 794,\n",
       " '82230319473': 795,\n",
       " '82230999946': 796,\n",
       " '82231133999': 797,\n",
       " '82231483552': 798,\n",
       " '82232120155': 799,\n",
       " '82232274160': 800,\n",
       " '82232740000': 801,\n",
       " '82232991223': 802,\n",
       " '82233662445': 803,\n",
       " '82233926702': 804,\n",
       " '82234375933': 805,\n",
       " '82234466360': 806,\n",
       " '82236255577': 807,\n",
       " '82236746285': 808,\n",
       " '82237060190': 809,\n",
       " '82237717540': 810,\n",
       " '82237731794': 811,\n",
       " '82237888181': 812,\n",
       " '82240006678': 813,\n",
       " '82240103632': 814,\n",
       " '82240319678': 815,\n",
       " '82241990836': 816,\n",
       " '82242851618': 817,\n",
       " '82243440515': 818,\n",
       " '82244004488': 819,\n",
       " '82244938090': 820,\n",
       " '82246672489': 821,\n",
       " '82246707718': 822,\n",
       " '82249037919': 823,\n",
       " '82249504850': 824,\n",
       " '82249875297': 825,\n",
       " '82250005559': 826,\n",
       " '82250074699': 827,\n",
       " '82250167266': 828,\n",
       " '82251554061': 829,\n",
       " '82252000595': 830,\n",
       " '82253530603': 831,\n",
       " '82254775828': 832,\n",
       " '82255153507': 833,\n",
       " '82257491608': 834,\n",
       " '82257713941': 835,\n",
       " '82257923322': 836,\n",
       " '82259638730': 837,\n",
       " '82260753687': 838,\n",
       " '82260940775': 839,\n",
       " '82261331638': 840,\n",
       " '82261627531': 841,\n",
       " '82261992840': 842,\n",
       " '82262244083': 843,\n",
       " '82262530099': 844,\n",
       " '82264241718': 845,\n",
       " '82264424442': 846,\n",
       " '82268101079': 847,\n",
       " '82268765934': 848,\n",
       " '82268878686': 849,\n",
       " '82269022613': 850,\n",
       " '82269779205': 851,\n",
       " '82271015469': 852,\n",
       " '82272282728': 853,\n",
       " '82272327200': 854,\n",
       " '82272780937': 855,\n",
       " '82273993019': 856,\n",
       " '82274057664': 857,\n",
       " '82275760922': 858,\n",
       " '82276447719': 859,\n",
       " '82276461248': 860,\n",
       " '82276463343': 861,\n",
       " '82277059197': 862,\n",
       " '82278717824': 863,\n",
       " '82278787747': 864,\n",
       " '82278833792': 865,\n",
       " '82278952453': 866,\n",
       " '82279094600': 867,\n",
       " '82279361464': 868,\n",
       " '82279783146': 869,\n",
       " '82279861007': 870,\n",
       " '82279924997': 871,\n",
       " '82280006748': 872,\n",
       " '82280178108': 873,\n",
       " '82280204447': 874,\n",
       " '82280344114': 875,\n",
       " '82280358402': 876,\n",
       " '82280425844': 877,\n",
       " '82280583364': 878,\n",
       " '82280697769': 879,\n",
       " '82281178910': 880,\n",
       " '82281297650': 881,\n",
       " '82281519331': 882,\n",
       " '82281544234': 883,\n",
       " '82281963452': 884,\n",
       " '82282265432': 885,\n",
       " '82282267229': 886,\n",
       " '82282305317': 887,\n",
       " '82282355791': 888,\n",
       " '82282404085': 889,\n",
       " '82283060043': 890,\n",
       " '82283226688': 891,\n",
       " '82283331889': 892,\n",
       " '82283508088': 893,\n",
       " '82284111524': 894,\n",
       " '82284452221': 895,\n",
       " '82284851234': 896,\n",
       " '82285319660': 897,\n",
       " '82285687838': 898,\n",
       " '82286912424': 899,\n",
       " '82287499101': 900,\n",
       " '82287572373': 901,\n",
       " '82288080267': 902,\n",
       " '82288082222': 903,\n",
       " '82288088032': 904,\n",
       " '82288186183': 905,\n",
       " '82288410631': 906,\n",
       " '82288591392': 907,\n",
       " '82288882505': 908,\n",
       " '82289810111': 909,\n",
       " '82295404844': 910,\n",
       " '82295695628': 911,\n",
       " '82297006942': 912,\n",
       " '82297500987': 913,\n",
       " '82297809499': 914,\n",
       " '82297900359': 915,\n",
       " '82297918979': 916,\n",
       " '82298106741': 917,\n",
       " '82298411984': 918,\n",
       " '82298467748': 919,\n",
       " '82299041255': 920,\n",
       " '82299346439': 921,\n",
       " '82299499118': 922,\n",
       " '82299799799': 923,\n",
       " '82300005794': 924,\n",
       " '82301343771': 925,\n",
       " '82301808400': 926,\n",
       " '82302297935': 927,\n",
       " '82307810781': 928,\n",
       " '82310255777': 929,\n",
       " '82311155845': 930,\n",
       " '82311218748': 931,\n",
       " '82311253913': 932,\n",
       " '82311656565': 933,\n",
       " '82311902005': 934,\n",
       " '82312548907': 935,\n",
       " '82312724469': 936,\n",
       " '82313254919': 937,\n",
       " '82314495799': 938,\n",
       " '82315275204': 939,\n",
       " '82315551669': 940,\n",
       " '82315741145': 941,\n",
       " '82315938281': 942,\n",
       " '82317071707': 943,\n",
       " '82318202579': 944,\n",
       " '82318331800': 945,\n",
       " '82318698765': 946,\n",
       " '82318937919': 947,\n",
       " '82319887766': 948,\n",
       " '82320018666': 949,\n",
       " '82320047563': 950,\n",
       " '82321811911': 951,\n",
       " '82322261662': 952,\n",
       " '82322887377': 953,\n",
       " '82323922333': 954,\n",
       " '82324194441': 955,\n",
       " '82324305758': 956,\n",
       " '82324825444': 957,\n",
       " '82324867349': 958,\n",
       " '82325404535': 959,\n",
       " '82325774608': 960,\n",
       " '82325861295': 961,\n",
       " '82326850006': 962,\n",
       " '82327279900': 963,\n",
       " '82327361958': 964,\n",
       " '82328170100': 965,\n",
       " '82328737644': 966,\n",
       " '82329225836': 967,\n",
       " '82330197744': 968,\n",
       " '82330219449': 969,\n",
       " '82330234141': 970,\n",
       " '82330513957': 971,\n",
       " '82330612393': 972,\n",
       " '82330683759': 973,\n",
       " '82330712349': 974,\n",
       " '82331342621': 975,\n",
       " '82331676299': 976,\n",
       " '82332342226': 977,\n",
       " '82332934419': 978,\n",
       " '82333222257': 979,\n",
       " '82333709098': 980,\n",
       " '82333832044': 981,\n",
       " '82333838838': 982,\n",
       " '82333933339': 983,\n",
       " '82334111177': 984,\n",
       " '82334278725': 985,\n",
       " '82334315523': 986,\n",
       " '82334399993': 987,\n",
       " '82334912222': 988,\n",
       " '82335355399': 989,\n",
       " '82335548745': 990,\n",
       " '82335761875': 991,\n",
       " '82336655104': 992,\n",
       " '82336681102': 993,\n",
       " '82337303780': 994,\n",
       " '82337537470': 995,\n",
       " '82337602309': 996,\n",
       " '82337700999': 997,\n",
       " '82337744564': 998,\n",
       " '82337765372': 999,\n",
       " ...}"
      ]
     },
     "execution_count": 66,
     "metadata": {},
     "output_type": "execute_result"
    }
   ],
   "source": [
    "key1"
   ]
  },
  {
   "cell_type": "code",
   "execution_count": null,
   "id": "18af3401",
   "metadata": {
    "ExecuteTime": {
     "end_time": "2023-08-12T05:02:17.777541Z",
     "start_time": "2023-08-12T05:02:17.687790Z"
    },
    "id": "18af3401"
   },
   "outputs": [],
   "source": [
    "key1_invert = {v: k for k, v in key1.items()}"
   ]
  },
  {
   "cell_type": "code",
   "execution_count": null,
   "id": "90c04a22",
   "metadata": {
    "ExecuteTime": {
     "end_time": "2023-08-12T05:02:21.764578Z",
     "start_time": "2023-08-12T05:02:21.693503Z"
    },
    "id": "90c04a22",
    "outputId": "7d5efae9-5d45-447f-aa53-cb6e5722ba78"
   },
   "outputs": [
    {
     "data": {
      "text/plain": [
       "0       668\n",
       "1       480\n",
       "2      1460\n",
       "3      1202\n",
       "4      1623\n",
       "       ... \n",
       "421     305\n",
       "422    1932\n",
       "423     613\n",
       "424    2112\n",
       "425     192\n",
       "Name: user_idc, Length: 2130, dtype: int64"
      ]
     },
     "execution_count": 68,
     "metadata": {},
     "output_type": "execute_result"
    }
   ],
   "source": [
    "out_concat.user_idc"
   ]
  },
  {
   "cell_type": "code",
   "execution_count": null,
   "id": "13e94d78",
   "metadata": {
    "ExecuteTime": {
     "end_time": "2023-08-12T05:03:46.303755Z",
     "start_time": "2023-08-12T05:03:46.230913Z"
    },
    "id": "13e94d78"
   },
   "outputs": [],
   "source": [
    "out_concat['user_id'] = out_concat.user_idc.map(key1_invert)"
   ]
  },
  {
   "cell_type": "code",
   "execution_count": null,
   "id": "6f916fcd",
   "metadata": {
    "ExecuteTime": {
     "end_time": "2023-08-12T05:03:56.129321Z",
     "start_time": "2023-08-12T05:03:55.633952Z"
    },
    "id": "6f916fcd",
    "outputId": "5847423f-6279-4263-b077-23752bce3740"
   },
   "outputs": [
    {
     "data": {
      "text/html": [
       "<div>\n",
       "<style scoped>\n",
       "    .dataframe tbody tr th:only-of-type {\n",
       "        vertical-align: middle;\n",
       "    }\n",
       "\n",
       "    .dataframe tbody tr th {\n",
       "        vertical-align: top;\n",
       "    }\n",
       "\n",
       "    .dataframe thead th {\n",
       "        text-align: right;\n",
       "    }\n",
       "</style>\n",
       "<table border=\"1\" class=\"dataframe\">\n",
       "  <thead>\n",
       "    <tr style=\"text-align: right;\">\n",
       "      <th></th>\n",
       "      <th>user_idc</th>\n",
       "      <th>time_delta</th>\n",
       "      <th>event_time</th>\n",
       "      <th>txn_type_id</th>\n",
       "      <th>amount</th>\n",
       "      <th>E_0</th>\n",
       "      <th>E_1</th>\n",
       "      <th>E_2</th>\n",
       "      <th>E_3</th>\n",
       "      <th>E_4</th>\n",
       "      <th>...</th>\n",
       "      <th>E_247</th>\n",
       "      <th>E_248</th>\n",
       "      <th>E_249</th>\n",
       "      <th>E_250</th>\n",
       "      <th>E_251</th>\n",
       "      <th>E_252</th>\n",
       "      <th>E_253</th>\n",
       "      <th>E_254</th>\n",
       "      <th>E_255</th>\n",
       "      <th>user_id</th>\n",
       "    </tr>\n",
       "  </thead>\n",
       "  <tbody>\n",
       "    <tr>\n",
       "      <th>0</th>\n",
       "      <td>668</td>\n",
       "      <td>[tensor(0), tensor(1), tensor(1), tensor(1), t...</td>\n",
       "      <td>[tensor(0), tensor(1), tensor(1), tensor(1), t...</td>\n",
       "      <td>[tensor(1), tensor(1), tensor(1), tensor(1), t...</td>\n",
       "      <td>[tensor(15000., dtype=torch.float64), tensor(5...</td>\n",
       "      <td>-0.593855</td>\n",
       "      <td>-0.611140</td>\n",
       "      <td>0.082734</td>\n",
       "      <td>-0.575660</td>\n",
       "      <td>0.443878</td>\n",
       "      <td>...</td>\n",
       "      <td>0.117945</td>\n",
       "      <td>-0.156992</td>\n",
       "      <td>-0.448515</td>\n",
       "      <td>-0.293131</td>\n",
       "      <td>-0.587978</td>\n",
       "      <td>0.284134</td>\n",
       "      <td>0.557590</td>\n",
       "      <td>0.584917</td>\n",
       "      <td>0.456724</td>\n",
       "      <td>82137674122</td>\n",
       "    </tr>\n",
       "    <tr>\n",
       "      <th>1</th>\n",
       "      <td>480</td>\n",
       "      <td>[tensor(0), tensor(0), tensor(1), tensor(1), t...</td>\n",
       "      <td>[tensor(0), tensor(0), tensor(1), tensor(1), t...</td>\n",
       "      <td>[tensor(1), tensor(2), tensor(2), tensor(2), t...</td>\n",
       "      <td>[tensor(50000., dtype=torch.float64), tensor(1...</td>\n",
       "      <td>-0.578030</td>\n",
       "      <td>-0.320370</td>\n",
       "      <td>0.220013</td>\n",
       "      <td>-0.573731</td>\n",
       "      <td>0.481297</td>\n",
       "      <td>...</td>\n",
       "      <td>0.167377</td>\n",
       "      <td>-0.140792</td>\n",
       "      <td>-0.340777</td>\n",
       "      <td>-0.352708</td>\n",
       "      <td>-0.597115</td>\n",
       "      <td>0.285930</td>\n",
       "      <td>0.501406</td>\n",
       "      <td>0.328263</td>\n",
       "      <td>0.538547</td>\n",
       "      <td>81397800797</td>\n",
       "    </tr>\n",
       "    <tr>\n",
       "      <th>2</th>\n",
       "      <td>1460</td>\n",
       "      <td>[tensor(0), tensor(0), tensor(1), tensor(10), ...</td>\n",
       "      <td>[tensor(0), tensor(0), tensor(1), tensor(10), ...</td>\n",
       "      <td>[tensor(1), tensor(2), tensor(1), tensor(1), t...</td>\n",
       "      <td>[tensor(50000., dtype=torch.float64), tensor(5...</td>\n",
       "      <td>-0.129558</td>\n",
       "      <td>-0.307605</td>\n",
       "      <td>0.023770</td>\n",
       "      <td>0.623530</td>\n",
       "      <td>0.254055</td>\n",
       "      <td>...</td>\n",
       "      <td>0.231245</td>\n",
       "      <td>-0.143382</td>\n",
       "      <td>-0.382425</td>\n",
       "      <td>-0.209294</td>\n",
       "      <td>-0.199607</td>\n",
       "      <td>0.301591</td>\n",
       "      <td>0.022999</td>\n",
       "      <td>0.244299</td>\n",
       "      <td>0.255303</td>\n",
       "      <td>85353633355</td>\n",
       "    </tr>\n",
       "    <tr>\n",
       "      <th>3</th>\n",
       "      <td>1202</td>\n",
       "      <td>[tensor(0), tensor(0), tensor(184), tensor(184...</td>\n",
       "      <td>[tensor(0), tensor(0), tensor(184), tensor(184...</td>\n",
       "      <td>[tensor(1), tensor(1), tensor(1), tensor(1), t...</td>\n",
       "      <td>[tensor(10000., dtype=torch.float64), tensor(1...</td>\n",
       "      <td>-0.535776</td>\n",
       "      <td>-0.655172</td>\n",
       "      <td>0.194007</td>\n",
       "      <td>-0.572738</td>\n",
       "      <td>0.292364</td>\n",
       "      <td>...</td>\n",
       "      <td>0.044450</td>\n",
       "      <td>-0.159223</td>\n",
       "      <td>-0.443074</td>\n",
       "      <td>-0.397367</td>\n",
       "      <td>-0.515326</td>\n",
       "      <td>0.338897</td>\n",
       "      <td>0.550806</td>\n",
       "      <td>0.728947</td>\n",
       "      <td>0.359654</td>\n",
       "      <td>85217519100</td>\n",
       "    </tr>\n",
       "    <tr>\n",
       "      <th>4</th>\n",
       "      <td>1623</td>\n",
       "      <td>[tensor(0), tensor(0), tensor(0), tensor(1), t...</td>\n",
       "      <td>[tensor(0), tensor(0), tensor(0), tensor(1), t...</td>\n",
       "      <td>[tensor(1), tensor(1), tensor(1), tensor(1), t...</td>\n",
       "      <td>[tensor(85000., dtype=torch.float64), tensor(2...</td>\n",
       "      <td>-0.521688</td>\n",
       "      <td>-0.491137</td>\n",
       "      <td>0.328950</td>\n",
       "      <td>-0.021091</td>\n",
       "      <td>0.408385</td>\n",
       "      <td>...</td>\n",
       "      <td>0.182946</td>\n",
       "      <td>-0.140024</td>\n",
       "      <td>-0.507191</td>\n",
       "      <td>-0.590535</td>\n",
       "      <td>-0.450092</td>\n",
       "      <td>0.453185</td>\n",
       "      <td>0.466181</td>\n",
       "      <td>0.265032</td>\n",
       "      <td>0.440943</td>\n",
       "      <td>85717658192</td>\n",
       "    </tr>\n",
       "    <tr>\n",
       "      <th>...</th>\n",
       "      <td>...</td>\n",
       "      <td>...</td>\n",
       "      <td>...</td>\n",
       "      <td>...</td>\n",
       "      <td>...</td>\n",
       "      <td>...</td>\n",
       "      <td>...</td>\n",
       "      <td>...</td>\n",
       "      <td>...</td>\n",
       "      <td>...</td>\n",
       "      <td>...</td>\n",
       "      <td>...</td>\n",
       "      <td>...</td>\n",
       "      <td>...</td>\n",
       "      <td>...</td>\n",
       "      <td>...</td>\n",
       "      <td>...</td>\n",
       "      <td>...</td>\n",
       "      <td>...</td>\n",
       "      <td>...</td>\n",
       "      <td>...</td>\n",
       "    </tr>\n",
       "    <tr>\n",
       "      <th>421</th>\n",
       "      <td>305</td>\n",
       "      <td>[tensor(0), tensor(1), tensor(1), tensor(1), t...</td>\n",
       "      <td>[tensor(0), tensor(1), tensor(1), tensor(1), t...</td>\n",
       "      <td>[tensor(1), tensor(1), tensor(1), tensor(1), t...</td>\n",
       "      <td>[tensor(10000., dtype=torch.float64), tensor(2...</td>\n",
       "      <td>-0.761613</td>\n",
       "      <td>-0.920988</td>\n",
       "      <td>0.187432</td>\n",
       "      <td>-0.849231</td>\n",
       "      <td>0.609800</td>\n",
       "      <td>...</td>\n",
       "      <td>-0.168785</td>\n",
       "      <td>-0.407333</td>\n",
       "      <td>-0.497696</td>\n",
       "      <td>-0.501658</td>\n",
       "      <td>-0.673201</td>\n",
       "      <td>0.669037</td>\n",
       "      <td>0.713175</td>\n",
       "      <td>0.855634</td>\n",
       "      <td>0.267353</td>\n",
       "      <td>81315152699</td>\n",
       "    </tr>\n",
       "    <tr>\n",
       "      <th>422</th>\n",
       "      <td>1932</td>\n",
       "      <td>[tensor(0), tensor(9), tensor(9), tensor(12), ...</td>\n",
       "      <td>[tensor(0), tensor(9), tensor(9), tensor(12), ...</td>\n",
       "      <td>[tensor(1), tensor(1), tensor(1), tensor(1), t...</td>\n",
       "      <td>[tensor(50000., dtype=torch.float64), tensor(5...</td>\n",
       "      <td>0.038503</td>\n",
       "      <td>-0.191053</td>\n",
       "      <td>0.104179</td>\n",
       "      <td>0.152739</td>\n",
       "      <td>0.160318</td>\n",
       "      <td>...</td>\n",
       "      <td>0.085110</td>\n",
       "      <td>-0.132371</td>\n",
       "      <td>-0.233699</td>\n",
       "      <td>-0.243126</td>\n",
       "      <td>-0.075185</td>\n",
       "      <td>0.389308</td>\n",
       "      <td>0.166987</td>\n",
       "      <td>0.078607</td>\n",
       "      <td>0.210151</td>\n",
       "      <td>87829722541</td>\n",
       "    </tr>\n",
       "    <tr>\n",
       "      <th>423</th>\n",
       "      <td>613</td>\n",
       "      <td>[tensor(0), tensor(0), tensor(0), tensor(0), t...</td>\n",
       "      <td>[tensor(0), tensor(0), tensor(0), tensor(0), t...</td>\n",
       "      <td>[tensor(1), tensor(1), tensor(1), tensor(1), t...</td>\n",
       "      <td>[tensor(3400000., dtype=torch.float64), tensor...</td>\n",
       "      <td>-0.638051</td>\n",
       "      <td>-0.541707</td>\n",
       "      <td>0.186781</td>\n",
       "      <td>-0.740925</td>\n",
       "      <td>0.413715</td>\n",
       "      <td>...</td>\n",
       "      <td>0.091764</td>\n",
       "      <td>-0.160421</td>\n",
       "      <td>-0.536088</td>\n",
       "      <td>-0.454903</td>\n",
       "      <td>-0.565677</td>\n",
       "      <td>0.330768</td>\n",
       "      <td>0.547510</td>\n",
       "      <td>0.614076</td>\n",
       "      <td>0.481095</td>\n",
       "      <td>82118511446</td>\n",
       "    </tr>\n",
       "    <tr>\n",
       "      <th>424</th>\n",
       "      <td>2112</td>\n",
       "      <td>[tensor(0), tensor(0), tensor(0), tensor(1), t...</td>\n",
       "      <td>[tensor(0), tensor(0), tensor(0), tensor(1), t...</td>\n",
       "      <td>[tensor(1), tensor(1), tensor(1), tensor(1), t...</td>\n",
       "      <td>[tensor(600000., dtype=torch.float64), tensor(...</td>\n",
       "      <td>-0.450044</td>\n",
       "      <td>-0.649005</td>\n",
       "      <td>0.143558</td>\n",
       "      <td>0.099293</td>\n",
       "      <td>0.337120</td>\n",
       "      <td>...</td>\n",
       "      <td>0.199294</td>\n",
       "      <td>-0.141370</td>\n",
       "      <td>-0.483973</td>\n",
       "      <td>-0.347070</td>\n",
       "      <td>-0.539830</td>\n",
       "      <td>0.258733</td>\n",
       "      <td>0.491339</td>\n",
       "      <td>0.357393</td>\n",
       "      <td>0.373163</td>\n",
       "      <td>8979737377</td>\n",
       "    </tr>\n",
       "    <tr>\n",
       "      <th>425</th>\n",
       "      <td>192</td>\n",
       "      <td>[tensor(0), tensor(2), tensor(2), tensor(5), t...</td>\n",
       "      <td>[tensor(0), tensor(2), tensor(2), tensor(5), t...</td>\n",
       "      <td>[tensor(1), tensor(1), tensor(1), tensor(1), t...</td>\n",
       "      <td>[tensor(50000., dtype=torch.float64), tensor(2...</td>\n",
       "      <td>-0.286301</td>\n",
       "      <td>-0.620264</td>\n",
       "      <td>0.014078</td>\n",
       "      <td>0.325535</td>\n",
       "      <td>0.640387</td>\n",
       "      <td>...</td>\n",
       "      <td>0.221094</td>\n",
       "      <td>-0.145194</td>\n",
       "      <td>-0.513688</td>\n",
       "      <td>-0.300383</td>\n",
       "      <td>-0.262741</td>\n",
       "      <td>0.262186</td>\n",
       "      <td>0.323593</td>\n",
       "      <td>0.196624</td>\n",
       "      <td>0.245892</td>\n",
       "      <td>81277970293</td>\n",
       "    </tr>\n",
       "  </tbody>\n",
       "</table>\n",
       "<p>2130 rows × 262 columns</p>\n",
       "</div>"
      ],
      "text/plain": [
       "     user_idc                                         time_delta  \\\n",
       "0         668  [tensor(0), tensor(1), tensor(1), tensor(1), t...   \n",
       "1         480  [tensor(0), tensor(0), tensor(1), tensor(1), t...   \n",
       "2        1460  [tensor(0), tensor(0), tensor(1), tensor(10), ...   \n",
       "3        1202  [tensor(0), tensor(0), tensor(184), tensor(184...   \n",
       "4        1623  [tensor(0), tensor(0), tensor(0), tensor(1), t...   \n",
       "..        ...                                                ...   \n",
       "421       305  [tensor(0), tensor(1), tensor(1), tensor(1), t...   \n",
       "422      1932  [tensor(0), tensor(9), tensor(9), tensor(12), ...   \n",
       "423       613  [tensor(0), tensor(0), tensor(0), tensor(0), t...   \n",
       "424      2112  [tensor(0), tensor(0), tensor(0), tensor(1), t...   \n",
       "425       192  [tensor(0), tensor(2), tensor(2), tensor(5), t...   \n",
       "\n",
       "                                            event_time  \\\n",
       "0    [tensor(0), tensor(1), tensor(1), tensor(1), t...   \n",
       "1    [tensor(0), tensor(0), tensor(1), tensor(1), t...   \n",
       "2    [tensor(0), tensor(0), tensor(1), tensor(10), ...   \n",
       "3    [tensor(0), tensor(0), tensor(184), tensor(184...   \n",
       "4    [tensor(0), tensor(0), tensor(0), tensor(1), t...   \n",
       "..                                                 ...   \n",
       "421  [tensor(0), tensor(1), tensor(1), tensor(1), t...   \n",
       "422  [tensor(0), tensor(9), tensor(9), tensor(12), ...   \n",
       "423  [tensor(0), tensor(0), tensor(0), tensor(0), t...   \n",
       "424  [tensor(0), tensor(0), tensor(0), tensor(1), t...   \n",
       "425  [tensor(0), tensor(2), tensor(2), tensor(5), t...   \n",
       "\n",
       "                                           txn_type_id  \\\n",
       "0    [tensor(1), tensor(1), tensor(1), tensor(1), t...   \n",
       "1    [tensor(1), tensor(2), tensor(2), tensor(2), t...   \n",
       "2    [tensor(1), tensor(2), tensor(1), tensor(1), t...   \n",
       "3    [tensor(1), tensor(1), tensor(1), tensor(1), t...   \n",
       "4    [tensor(1), tensor(1), tensor(1), tensor(1), t...   \n",
       "..                                                 ...   \n",
       "421  [tensor(1), tensor(1), tensor(1), tensor(1), t...   \n",
       "422  [tensor(1), tensor(1), tensor(1), tensor(1), t...   \n",
       "423  [tensor(1), tensor(1), tensor(1), tensor(1), t...   \n",
       "424  [tensor(1), tensor(1), tensor(1), tensor(1), t...   \n",
       "425  [tensor(1), tensor(1), tensor(1), tensor(1), t...   \n",
       "\n",
       "                                                amount       E_0       E_1  \\\n",
       "0    [tensor(15000., dtype=torch.float64), tensor(5... -0.593855 -0.611140   \n",
       "1    [tensor(50000., dtype=torch.float64), tensor(1... -0.578030 -0.320370   \n",
       "2    [tensor(50000., dtype=torch.float64), tensor(5... -0.129558 -0.307605   \n",
       "3    [tensor(10000., dtype=torch.float64), tensor(1... -0.535776 -0.655172   \n",
       "4    [tensor(85000., dtype=torch.float64), tensor(2... -0.521688 -0.491137   \n",
       "..                                                 ...       ...       ...   \n",
       "421  [tensor(10000., dtype=torch.float64), tensor(2... -0.761613 -0.920988   \n",
       "422  [tensor(50000., dtype=torch.float64), tensor(5...  0.038503 -0.191053   \n",
       "423  [tensor(3400000., dtype=torch.float64), tensor... -0.638051 -0.541707   \n",
       "424  [tensor(600000., dtype=torch.float64), tensor(... -0.450044 -0.649005   \n",
       "425  [tensor(50000., dtype=torch.float64), tensor(2... -0.286301 -0.620264   \n",
       "\n",
       "          E_2       E_3       E_4  ...     E_247     E_248     E_249  \\\n",
       "0    0.082734 -0.575660  0.443878  ...  0.117945 -0.156992 -0.448515   \n",
       "1    0.220013 -0.573731  0.481297  ...  0.167377 -0.140792 -0.340777   \n",
       "2    0.023770  0.623530  0.254055  ...  0.231245 -0.143382 -0.382425   \n",
       "3    0.194007 -0.572738  0.292364  ...  0.044450 -0.159223 -0.443074   \n",
       "4    0.328950 -0.021091  0.408385  ...  0.182946 -0.140024 -0.507191   \n",
       "..        ...       ...       ...  ...       ...       ...       ...   \n",
       "421  0.187432 -0.849231  0.609800  ... -0.168785 -0.407333 -0.497696   \n",
       "422  0.104179  0.152739  0.160318  ...  0.085110 -0.132371 -0.233699   \n",
       "423  0.186781 -0.740925  0.413715  ...  0.091764 -0.160421 -0.536088   \n",
       "424  0.143558  0.099293  0.337120  ...  0.199294 -0.141370 -0.483973   \n",
       "425  0.014078  0.325535  0.640387  ...  0.221094 -0.145194 -0.513688   \n",
       "\n",
       "        E_250     E_251     E_252     E_253     E_254     E_255      user_id  \n",
       "0   -0.293131 -0.587978  0.284134  0.557590  0.584917  0.456724  82137674122  \n",
       "1   -0.352708 -0.597115  0.285930  0.501406  0.328263  0.538547  81397800797  \n",
       "2   -0.209294 -0.199607  0.301591  0.022999  0.244299  0.255303  85353633355  \n",
       "3   -0.397367 -0.515326  0.338897  0.550806  0.728947  0.359654  85217519100  \n",
       "4   -0.590535 -0.450092  0.453185  0.466181  0.265032  0.440943  85717658192  \n",
       "..        ...       ...       ...       ...       ...       ...          ...  \n",
       "421 -0.501658 -0.673201  0.669037  0.713175  0.855634  0.267353  81315152699  \n",
       "422 -0.243126 -0.075185  0.389308  0.166987  0.078607  0.210151  87829722541  \n",
       "423 -0.454903 -0.565677  0.330768  0.547510  0.614076  0.481095  82118511446  \n",
       "424 -0.347070 -0.539830  0.258733  0.491339  0.357393  0.373163   8979737377  \n",
       "425 -0.300383 -0.262741  0.262186  0.323593  0.196624  0.245892  81277970293  \n",
       "\n",
       "[2130 rows x 262 columns]"
      ]
     },
     "execution_count": 73,
     "metadata": {},
     "output_type": "execute_result"
    }
   ],
   "source": [
    "out_concat"
   ]
  },
  {
   "cell_type": "code",
   "execution_count": null,
   "id": "fd32c84e",
   "metadata": {
    "ExecuteTime": {
     "end_time": "2023-08-12T05:05:52.238000Z",
     "start_time": "2023-08-12T05:05:48.425875Z"
    },
    "id": "fd32c84e"
   },
   "outputs": [],
   "source": [
    "out_concat.to_csv(\"data_research/rnn_out_nodel_level.csv\")"
   ]
  },
  {
   "cell_type": "code",
   "execution_count": null,
   "id": "f9cf8f2b",
   "metadata": {
    "ExecuteTime": {
     "end_time": "2023-08-12T05:06:07.204276Z",
     "start_time": "2023-08-12T05:06:07.127323Z"
    },
    "id": "f9cf8f2b"
   },
   "outputs": [],
   "source": [
    "# out_concat.edge_pair.nunique()"
   ]
  },
  {
   "cell_type": "code",
   "execution_count": null,
   "id": "18245f84",
   "metadata": {
    "ExecuteTime": {
     "end_time": "2023-08-12T05:06:16.697738Z",
     "start_time": "2023-08-12T05:06:16.622862Z"
    },
    "execution": {
     "iopub.execute_input": "2022-05-04T18:23:29.432774Z",
     "iopub.status.busy": "2022-05-04T18:23:29.432271Z",
     "iopub.status.idle": "2022-05-04T18:23:29.567993Z",
     "shell.execute_reply": "2022-05-04T18:23:29.567538Z"
    },
    "id": "18245f84"
   },
   "outputs": [],
   "source": [
    "# # join target and embeddings\n",
    "\n",
    "# df_target = pd.read_csv(os.path.join(data_path, 'train_target.csv'))\n",
    "# df_target = df_target.set_index('client_id')\n",
    "# df_target.rename(columns={\"bins\": \"target\"}, inplace=True)\n",
    "\n",
    "# train_df = pd.DataFrame(data=train_embeds, columns=[f'embed_{i}' for i in range(train_embeds.shape[1])])\n",
    "# train_df['client_id'] = [x['client_id'] for x in train]\n",
    "# train_df = train_df.merge(df_target, how='left', on='client_id')\n",
    "\n",
    "# test_df = pd.DataFrame(data=test_embeds, columns=[f'embed_{i}' for i in range(test_embeds.shape[1])])\n",
    "# test_df['client_id'] = [x['client_id'] for x in test]\n",
    "# test_df = test_df.merge(df_target, how='left', on='client_id')\n",
    "\n",
    "# print(train_df.shape, test_df.shape)"
   ]
  },
  {
   "cell_type": "markdown",
   "id": "baafa0c0",
   "metadata": {
    "id": "baafa0c0"
   },
   "source": [
    "Obtained embeddings can be used as features for model training\n",
    "\n",
    "For example:"
   ]
  },
  {
   "cell_type": "code",
   "execution_count": null,
   "id": "37e3de46",
   "metadata": {
    "ExecuteTime": {
     "end_time": "2023-08-12T05:06:18.137315Z",
     "start_time": "2023-08-12T05:06:18.059734Z"
    },
    "execution": {
     "iopub.execute_input": "2022-05-04T18:23:29.572307Z",
     "iopub.status.busy": "2022-05-04T18:23:29.571827Z",
     "iopub.status.idle": "2022-05-04T18:24:19.559659Z",
     "shell.execute_reply": "2022-05-04T18:24:19.560095Z"
    },
    "id": "37e3de46",
    "scrolled": true
   },
   "outputs": [],
   "source": [
    "# from sklearn.ensemble import RandomForestClassifier\n",
    "\n",
    "# embed_columns = [x for x in train_df.columns if x.startswith('embed')]\n",
    "# x_train, y_train = train_df[embed_columns], train_df['target']\n",
    "# x_test, y_test = test_df[embed_columns], test_df['target']\n",
    "\n",
    "# clf = RandomForestClassifier()\n",
    "# clf.fit(x_train, y_train)\n",
    "# clf.score(x_test, y_test)"
   ]
  }
 ],
 "metadata": {
  "colab": {
   "provenance": []
  },
  "hide_input": false,
  "kernelspec": {
   "display_name": "Python 3 (ipykernel)",
   "language": "python",
   "name": "python3"
  },
  "language_info": {
   "codemirror_mode": {
    "name": "ipython",
    "version": 3
   },
   "file_extension": ".py",
   "mimetype": "text/x-python",
   "name": "python",
   "nbconvert_exporter": "python",
   "pygments_lexer": "ipython3",
   "version": "3.8.13"
  },
  "toc": {
   "base_numbering": 1,
   "nav_menu": {},
   "number_sections": true,
   "sideBar": true,
   "skip_h1_title": false,
   "title_cell": "Table of Contents",
   "title_sidebar": "Contents",
   "toc_cell": false,
   "toc_position": {
    "height": "calc(100% - 180px)",
    "left": "10px",
    "top": "150px",
    "width": "252px"
   },
   "toc_section_display": true,
   "toc_window_display": true
  },
  "vscode": {
   "interpreter": {
    "hash": "e153ad723e521bdc1aff37b3bab9b1f3df31355f5a727a9b9eb7d0282ae9ca8c"
   }
  },
  "widgets": {
   "application/vnd.jupyter.widget-state+json": {}
  }
 },
 "nbformat": 4,
 "nbformat_minor": 5
}
